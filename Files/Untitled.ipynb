{
 "cells": [
  {
   "cell_type": "code",
   "execution_count": 9,
   "id": "98f01a51-8750-4d1a-bcb2-4961dd9c3783",
   "metadata": {
    "tags": []
   },
   "outputs": [
    {
     "name": "stdout",
     "output_type": "stream",
     "text": [
      "𝐗𝐈𝐗\n",
      "RIT'23\n",
      "~Reality is an illusion~\n",
      "🛠️ @geoaudio\n",
      "48\n"
     ]
    }
   ],
   "source": [
    "import json\n",
    "\n",
    "# The coded form of the text\n",
    "coded_text = r\"\\ud835\\udc17\\ud835\\udc08\\ud835\\udc17\\nRIT'23\\n~Reality is an illusion~\\n\\ud83d\\udee0\\ufe0f \\u0040geoaudio\"\n",
    "\n",
    "# Convert the coded text to the original text using json.loads()\n",
    "original_text = json.loads('\"' + coded_text.replace('\"', '\\\\\"') + '\"')\n",
    "\n",
    "# Print the original text\n",
    "print(original_text)\n",
    "print(len(original_text))"
   ]
  },
  {
   "cell_type": "code",
   "execution_count": null,
   "id": "d70da060-059f-409f-9f92-24aa226fb511",
   "metadata": {},
   "outputs": [],
   "source": [
    "#abandoned bs scrap \n",
    "\n",
    "import requests\n",
    "from bs4 import BeautifulSoup\n",
    "\n",
    "# Replace with the username you want to scrape\n",
    "username = 'example_username'\n",
    "\n",
    "# Define the URL to scrape\n",
    "url = f'https://www.instagram.com/artistpng/'\n",
    "\n",
    "# Send a GET request to the URL\n",
    "response = requests.get(url)\n",
    "\n",
    "# Check if the request was successful\n",
    "if response.status_code == 200:\n",
    "    # Parse the HTML content using BeautifulSoup\n",
    "    soup = BeautifulSoup(response.content, 'html.parser')\n",
    "\n",
    "    # Find the og:description meta tag\n",
    "    meta_tag = soup.find('meta', {'property': 'og:description'})\n",
    "\n",
    "    # Check if the meta tag was found before accessing its content attribute\n",
    "    if meta_tag:\n",
    "        content = meta_tag.get('content')\n",
    "\n",
    "        # Print the content to debug the issue\n",
    "        print(f\"Content: {content}\")\n",
    "\n",
    "        # Extract the follower count, following count, and number of posts from the content\n",
    "        parts = content.split(' - ')\n",
    "\n",
    "        # Print the parts list to debug the issue\n",
    "        print(f\"Parts: {parts}\")\n",
    "\n",
    "        followers = parts[0].split()[0]\n",
    "        following = parts[1].split()[0]\n",
    "        posts = parts[2].split()[0]\n",
    "\n",
    "        # Print out the public data\n",
    "        print(f\"Followers: {followers}\")\n",
    "        print(f\"Following: {following}\")\n",
    "        print(f\"Number of posts: {posts}\")\n",
    "    else:\n",
    "        print(\"Could not find the public data\")\n",
    "else:\n",
    "    # If the request was unsuccessful, print an error message\n",
    "    print(f\"Error: {response.status_code}\")\n"
   ]
  },
  {
   "cell_type": "code",
   "execution_count": 20,
   "id": "4176ba9f-48e1-48d2-a6c5-ac0f4c0cd75d",
   "metadata": {
    "tags": []
   },
   "outputs": [
    {
     "name": "stderr",
     "output_type": "stream",
     "text": [
      "C:\\Users\\Geo Joseph\\AppData\\Local\\Temp\\ipykernel_15576\\3190713186.py:13: DeprecationWarning: executable_path has been deprecated, please pass in a Service object\n",
      "  driver = webdriver.Chrome(executable_path=driver_path, options=chrome_options)\n"
     ]
    }
   ],
   "source": [
    "\n",
    "import requests\n",
    "from bs4 import BeautifulSoup\n",
    "\n",
    "username = 'juhin_george'\n",
    "\n",
    "# The URL of the Instagram profile\n",
    "url = f\"https://gramhir.com/profile/{username}/\"\n",
    "\n",
    "# Send a GET request to the URL and get the HTML content\n",
    "response = requests.get(url)\n",
    "html_content = response.text\n",
    "\n",
    "# Parse the HTML content using BeautifulSoup\n",
    "soup = BeautifulSoup(html_content, \"html.parser\")\n",
    "\n",
    "\n",
    "\n",
    "# Find if any pics are publically  available\n",
    "#pics = str(soup.find('div', {'class': 'pic'}))\n",
    "#print(pics)\n",
    "\n",
    "print(soup)\n",
    "\n"
   ]
  }
 ],
 "metadata": {
  "kernelspec": {
   "display_name": "Python 3 (ipykernel)",
   "language": "python",
   "name": "python3"
  },
  "language_info": {
   "codemirror_mode": {
    "name": "ipython",
    "version": 3
   },
   "file_extension": ".py",
   "mimetype": "text/x-python",
   "name": "python",
   "nbconvert_exporter": "python",
   "pygments_lexer": "ipython3",
   "version": "3.8.5"
  }
 },
 "nbformat": 4,
 "nbformat_minor": 5
}
