{
 "cells": [
  {
   "cell_type": "code",
   "execution_count": 12,
   "id": "92ba3476",
   "metadata": {},
   "outputs": [
    {
     "name": "stdout",
     "output_type": "stream",
     "text": [
      "   statuses_count  followers_count  friends_count  favourites_count  \\\n",
      "0             106               44            176              3448   \n",
      "1              21               10             56                98   \n",
      "2              24                4            588                16   \n",
      "3             656               57            693               597   \n",
      "4            1234               15            104              1150   \n",
      "5             573               14            227               530   \n",
      "6             675               18            519               653   \n",
      "7            1333               73           1998              1262   \n",
      "8              99               26           1548                80   \n",
      "9             553               63           1930               497   \n",
      "\n",
      "   listed_count  Target  \n",
      "0             0       1  \n",
      "1             2       1  \n",
      "2             0       0  \n",
      "3             0       0  \n",
      "4             0       0  \n",
      "5             0       0  \n",
      "6             0       0  \n",
      "7             1       0  \n",
      "8             0       0  \n",
      "9             0       0  \n",
      "              precision    recall  f1-score   support\n",
      "\n",
      "           0       1.00      0.99      1.00       282\n",
      "           1       0.99      1.00      1.00       282\n",
      "\n",
      "    accuracy                           1.00       564\n",
      "   macro avg       1.00      1.00      1.00       564\n",
      "weighted avg       1.00      1.00      1.00       564\n",
      "\n",
      "562\n",
      "[[280   2]\n",
      " [  0 282]]\n"
     ]
    },
    {
     "data": {
      "image/png": "[encoded data removed]",
      "text/plain": [
       "<Figure size 640x480 with 2 Axes>"
      ]
     },
     "metadata": {},
     "output_type": "display_data"
    }
   ],
   "source": [
    "import pandas as pd\n",
    "import sklearn\n",
    "from sklearn.model_selection import train_test_split\n",
    "from sklearn.metrics import confusion_matrix, classification_report, accuracy_score\n",
    "import pickle\n",
    "from sklearn import metrics\n",
    "from sklearn.ensemble import RandomForestClassifier\n",
    "import matplotlib.pyplot as plt\n",
    "import seaborn as sns\n",
    "dataset = pd.read_csv(\"d.csv\")\n",
    "print(dataset.head(10))\n",
    "X=dataset.drop(\"Target\",axis=1)\n",
    "#print(X.head(50))\n",
    "y=dataset[\"Target\"]\n",
    "#print(y.head())\n",
    "X_train, X_test, y_train, y_test =train_test_split(X, y, test_size=0.20, random_state=20)\n",
    "rf_classifier = RandomForestClassifier(n_estimators = 20, criterion = 'entropy', random_state = 51)\n",
    "rf_classifier.fit(X_train, y_train)\n",
    "y_pred_rf = rf_classifier.predict(X_test)\n",
    "#print(y_pred_rf)\n",
    "#print(y_test)\n",
    "# pickle.dump(rf_classifier, open('fake_profile_detector.pickle', 'wb'))\n",
    "print(classification_report(y_test, y_pred_rf))\n",
    "print(sklearn.metrics.accuracy_score(y_test, y_pred_rf, normalize=False))\n",
    "CM = confusion_matrix(y_test, y_pred_rf)\n",
    "print(CM)\n",
    "sns.heatmap(CM)\n",
    "plt.ylabel('True Label')\n",
    "plt.xlabel('Predicted Label')\n",
    "plt.show()\n"
   ]
  },
  {
   "cell_type": "code",
   "execution_count": 6,
   "id": "3477795f",
   "metadata": {},
   "outputs": [
    {
     "data": {
      "text/plain": [
       "'C:\\\\Users\\\\hp\\\\AppData\\\\Local\\\\Programs\\\\Python\\\\Python310\\\\Scripts'"
      ]
     },
     "execution_count": 6,
     "metadata": {},
     "output_type": "execute_result"
    }
   ],
   "source": [
    "pwd\n"
   ]
  },
  {
   "cell_type": "code",
   "execution_count": null,
   "id": "9bf834d2",
   "metadata": {},
   "outputs": [],
   "source": []
  },
  {
   "cell_type": "code",
   "execution_count": null,
   "id": "43adf158",
   "metadata": {},
   "outputs": [],
   "source": []
  }
 ],
 "metadata": {
  "kernelspec": {
   "display_name": "Python 3 (ipykernel)",
   "language": "python",
   "name": "python3"
  },
  "language_info": {
   "codemirror_mode": {
    "name": "ipython",
    "version": 3
   },
   "file_extension": ".py",
   "mimetype": "text/x-python",
   "name": "python",
   "nbconvert_exporter": "python",
   "pygments_lexer": "ipython3",
   "version": "3.10.8"
  }
 },
 "nbformat": 4,
 "nbformat_minor": 5
}
