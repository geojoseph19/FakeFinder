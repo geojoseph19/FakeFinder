{
 "cells": [
  {
   "cell_type": "code",
   "execution_count": 25,
   "id": "98f01a51-8750-4d1a-bcb2-4961dd9c3783",
   "metadata": {
    "tags": []
   },
   "outputs": [
    {
     "name": "stdout",
     "output_type": "stream",
     "text": [
      "ꜱᴛɪʟʟ ɪ ʀɪꜱᴇ ‼️🇮🇳  |  🇦🇪\n",
      "24\n"
     ]
    }
   ],
   "source": [
    "import json\n",
    "\n",
    "# The coded form of the text\n",
    "coded_text = r\"\\ua731\\u1d1b\\u026a\\u029f\\u029f \\u026a \\u0280\\u026a\\ua731\\u1d07 \\u203c\\ufe0f\\ud83c\\uddee\\ud83c\\uddf3  |  \\ud83c\\udde6\\ud83c\\uddea\"\n",
    "\n",
    "# Convert the coded text to the original text using json.loads()\n",
    "original_text = json.loads('\"' + coded_text.replace('\"', '\\\\\"') + '\"')\n",
    "\n",
    "# Print the original text\n",
    "print(original_text)\n",
    "print(len(original_text))"
   ]
  },
  {
   "cell_type": "code",
   "execution_count": 93,
   "id": "6c98321a-f634-4025-9454-762bb5183fc9",
   "metadata": {
    "tags": []
   },
   "outputs": [
    {
     "name": "stdout",
     "output_type": "stream",
     "text": [
      "https://scontent-lga3-1.cdninstagram.com/v/t51.2885-19/335634708_204597838834554_5777916953614198724_n.jpg?stp=dst-jpg_s100x100&_nc_cat=110&ccb=1-7&_nc_sid=8ae9d6&_nc_ohc=xHUH8OkIl_0AX-7uEeD&_nc_ht=scontent-lga3-1.cdninstagram.com&oh=00_AfB8g7stqVBxB7aZPyqXIJAROFjbvwbrpzTbXDJJiDPQTQ&oe=645CADBE\n",
      "€terπa| B|!$$ ✨\n",
      "♪Mu$!¢♪•••W!th0ut Mu$!¢ L!fe W0u|d Be A M!$take ♪♪♪\n",
      "# Att!tude !s a l!l th!ng that makes \n",
      "a b!g d!fference #\n",
      "🔒\n",
      "26\n"
     ]
    }
   ],
   "source": [
    "#grabbing bio \n",
    "\n",
    "import requests\n",
    "from bs4 import BeautifulSoup\n",
    "import json\n",
    "\n",
    "# The URL of the Instagram profile\n",
    "url = \"https://www.instagram.com/blessy_k_s/\"\n",
    "\n",
    "# Send a GET request to the URL and get the HTML content\n",
    "response = requests.get(url)\n",
    "html_content = response.text\n",
    "\n",
    "# Parse the HTML content using BeautifulSoup\n",
    "soup = BeautifulSoup(html_content, \"html.parser\")\n",
    "\n",
    "# Find the <script> tag with type=\"application/ld+json\"\n",
    "script_tag = soup.find(\"script\", {\"type\": \"application/ld+json\"})\n",
    "\n",
    "#print(script_tag)\n",
    "\n",
    "# Extract the contents of the <script> tag\n",
    "json_data = json.loads(script_tag.contents[0])\n",
    "\n",
    "#print(json_data)\n",
    "\n",
    "#print(json.dumps(json_data, indent=2))\n",
    "\n",
    "\n",
    "\n",
    "\n",
    "# Extract the \"description\" key from the JSON data\n",
    "description = json_data[\"description\"]\n",
    "\n",
    "#checking for profile picture\n",
    "profile_img_url = json_data['author']['image']\n",
    "print(profile_img_url)\n",
    "if profile_img_url == \"\":\n",
    "    ppic = 0\n",
    "else:\n",
    "    ppic = 1\n",
    "# Print the description\n",
    "print(description)\n",
    "\n",
    "\n",
    "priv = json_data['interactionStatistic'][0]['userInteractionCount']\n",
    "\n",
    "print(priv)\n",
    "\n"
   ]
  },
  {
   "cell_type": "code",
   "execution_count": 90,
   "id": "eca4c27b-d0d9-4e86-ae9f-86af9d8108b5",
   "metadata": {
    "tags": []
   },
   "outputs": [
    {
     "ename": "AttributeError",
     "evalue": "'NoneType' object has no attribute 'text'",
     "output_type": "error",
     "traceback": [
      "\u001b[1;31m---------------------------------------------------------------------------\u001b[0m",
      "\u001b[1;31mAttributeError\u001b[0m                            Traceback (most recent call last)",
      "Cell \u001b[1;32mIn[90], line 10\u001b[0m\n\u001b[0;32m      7\u001b[0m response \u001b[38;5;241m=\u001b[39m requests\u001b[38;5;241m.\u001b[39mget(url)\n\u001b[0;32m      8\u001b[0m soup \u001b[38;5;241m=\u001b[39m BeautifulSoup(response\u001b[38;5;241m.\u001b[39mcontent, \u001b[38;5;124m'\u001b[39m\u001b[38;5;124mhtml.parser\u001b[39m\u001b[38;5;124m'\u001b[39m)\n\u001b[1;32m---> 10\u001b[0m is_private \u001b[38;5;241m=\u001b[39m \u001b[43msoup\u001b[49m\u001b[38;5;241;43m.\u001b[39;49m\u001b[43mfind\u001b[49m\u001b[43m(\u001b[49m\u001b[38;5;124;43m'\u001b[39;49m\u001b[38;5;124;43mh2\u001b[39;49m\u001b[38;5;124;43m'\u001b[39;49m\u001b[43m,\u001b[49m\u001b[43m \u001b[49m\u001b[43m{\u001b[49m\u001b[38;5;124;43m'\u001b[39;49m\u001b[38;5;124;43mclass\u001b[39;49m\u001b[38;5;124;43m'\u001b[39;49m\u001b[43m:\u001b[49m\u001b[43m \u001b[49m\u001b[38;5;124;43m'\u001b[39;49m\u001b[38;5;124;43mrkEop\u001b[39;49m\u001b[38;5;124;43m'\u001b[39;49m\u001b[43m}\u001b[49m\u001b[43m)\u001b[49m\u001b[38;5;241;43m.\u001b[39;49m\u001b[43mtext\u001b[49m \u001b[38;5;241m==\u001b[39m \u001b[38;5;124m'\u001b[39m\u001b[38;5;124mThis Account is Private\u001b[39m\u001b[38;5;124m'\u001b[39m\n\u001b[0;32m     11\u001b[0m \u001b[38;5;28;01mif\u001b[39;00m is_private:\n\u001b[0;32m     12\u001b[0m     \u001b[38;5;28mprint\u001b[39m(\u001b[38;5;124m\"\u001b[39m\u001b[38;5;124mThis is a private account.\u001b[39m\u001b[38;5;124m\"\u001b[39m)\n",
      "\u001b[1;31mAttributeError\u001b[0m: 'NoneType' object has no attribute 'text'"
     ]
    }
   ],
   "source": [
    "import requests\n",
    "from bs4 import BeautifulSoup\n",
    "\n",
    "username = 'example_username'\n",
    "url = f'https://www.instagram.com/rajaprabhavr/'\n",
    "\n",
    "response = requests.get(url)\n",
    "soup = BeautifulSoup(response.content, 'html.parser')\n",
    "\n",
    "is_private = soup.find('h2', {'class': 'rkEop'}).text == 'This Account is Private'\n",
    "if is_private:\n",
    "    print(\"This is a private account.\")\n",
    "else:\n",
    "    print(\"This is a public account.\")\n"
   ]
  },
  {
   "cell_type": "code",
   "execution_count": null,
   "id": "d70da060-059f-409f-9f92-24aa226fb511",
   "metadata": {},
   "outputs": [],
   "source": [
    "#abandoned bs scrap \n",
    "\n",
    "import requests\n",
    "from bs4 import BeautifulSoup\n",
    "\n",
    "# Replace with the username you want to scrape\n",
    "username = 'example_username'\n",
    "\n",
    "# Define the URL to scrape\n",
    "url = f'https://www.instagram.com/artistpng/'\n",
    "\n",
    "# Send a GET request to the URL\n",
    "response = requests.get(url)\n",
    "\n",
    "# Check if the request was successful\n",
    "if response.status_code == 200:\n",
    "    # Parse the HTML content using BeautifulSoup\n",
    "    soup = BeautifulSoup(response.content, 'html.parser')\n",
    "\n",
    "    # Find the og:description meta tag\n",
    "    meta_tag = soup.find('meta', {'property': 'og:description'})\n",
    "\n",
    "    # Check if the meta tag was found before accessing its content attribute\n",
    "    if meta_tag:\n",
    "        content = meta_tag.get('content')\n",
    "\n",
    "        # Print the content to debug the issue\n",
    "        print(f\"Content: {content}\")\n",
    "\n",
    "        # Extract the follower count, following count, and number of posts from the content\n",
    "        parts = content.split(' - ')\n",
    "\n",
    "        # Print the parts list to debug the issue\n",
    "        print(f\"Parts: {parts}\")\n",
    "\n",
    "        followers = parts[0].split()[0]\n",
    "        following = parts[1].split()[0]\n",
    "        posts = parts[2].split()[0]\n",
    "\n",
    "        # Print out the public data\n",
    "        print(f\"Followers: {followers}\")\n",
    "        print(f\"Following: {following}\")\n",
    "        print(f\"Number of posts: {posts}\")\n",
    "    else:\n",
    "        print(\"Could not find the public data\")\n",
    "else:\n",
    "    # If the request was unsuccessful, print an error message\n",
    "    print(f\"Error: {response.status_code}\")\n",
    "    \n",
    "    \n",
    "    \n",
    "    \n",
    "    \n",
    "    \n",
    "\"\"\"\n",
    "    # Check if the meta tag was found before accessing its content attribute\n",
    "    if meta_tag:\n",
    "        content = meta_tag.get('content')\n",
    "\n",
    "        # Extract the follower count, following count, and number of posts from the content\n",
    "        parts = content.split(' - ')\n",
    "\n",
    "        # Check if the parts list has at least three elements before trying to access the third element\n",
    "        if len(parts) >= 3:\n",
    "            followers = parts[0].split()[0]\n",
    "            following = parts[1].split()[0]\n",
    "            posts = parts[2].split()[0]\n",
    "\n",
    "            # Print out the public data\n",
    "            print(f\"Followers: {followers}\")\n",
    "            print(f\"Following: {following}\")\n",
    "            print(f\"Number of posts: {posts}\")\n",
    "        else:\n",
    "            print(\"Could not find the public data\")\n",
    "    else:\n",
    "        print(\"Could not find the public data\")\n",
    "else:\n",
    "    # If the request was unsuccessful, print an error message\n",
    "    print(f\"Error: {response.status_code}\")\n",
    "    \n",
    "\"\"\"\n"
   ]
  },
  {
   "cell_type": "code",
   "execution_count": 34,
   "id": "14952c6a-b525-45e6-89df-2589a5c7a765",
   "metadata": {
    "tags": []
   },
   "outputs": [
    {
     "ename": "AttributeError",
     "evalue": "'NoneType' object has no attribute 'string'",
     "output_type": "error",
     "traceback": [
      "\u001b[1;31m---------------------------------------------------------------------------\u001b[0m",
      "\u001b[1;31mAttributeError\u001b[0m                            Traceback (most recent call last)",
      "Cell \u001b[1;32mIn[34], line 14\u001b[0m\n\u001b[0;32m     11\u001b[0m soup \u001b[38;5;241m=\u001b[39m BeautifulSoup(response\u001b[38;5;241m.\u001b[39mcontent, \u001b[38;5;124m'\u001b[39m\u001b[38;5;124mhtml.parser\u001b[39m\u001b[38;5;124m'\u001b[39m)\n\u001b[0;32m     13\u001b[0m \u001b[38;5;66;03m# Checking if the profile is private\u001b[39;00m\n\u001b[1;32m---> 14\u001b[0m is_private \u001b[38;5;241m=\u001b[39m \u001b[43msoup\u001b[49m\u001b[38;5;241;43m.\u001b[39;49m\u001b[43mfind\u001b[49m\u001b[43m(\u001b[49m\u001b[38;5;124;43m'\u001b[39;49m\u001b[38;5;124;43mh2\u001b[39;49m\u001b[38;5;124;43m'\u001b[39;49m\u001b[43m,\u001b[49m\u001b[43m \u001b[49m\u001b[43m{\u001b[49m\u001b[38;5;124;43m'\u001b[39;49m\u001b[38;5;124;43mclass\u001b[39;49m\u001b[38;5;124;43m'\u001b[39;49m\u001b[43m:\u001b[49m\u001b[43m \u001b[49m\u001b[38;5;124;43m'\u001b[39;49m\u001b[38;5;124;43mrkEop\u001b[39;49m\u001b[38;5;124;43m'\u001b[39;49m\u001b[43m}\u001b[49m\u001b[43m)\u001b[49m\u001b[38;5;241;43m.\u001b[39;49m\u001b[43mstring\u001b[49m \u001b[38;5;241m==\u001b[39m \u001b[38;5;124m\"\u001b[39m\u001b[38;5;124mThis Account is Private\u001b[39m\u001b[38;5;124m\"\u001b[39m\n\u001b[0;32m     16\u001b[0m \u001b[38;5;66;03m# Checking if the profile has a profile picture\u001b[39;00m\n\u001b[0;32m     17\u001b[0m has_profile_picture \u001b[38;5;241m=\u001b[39m \u001b[38;5;28mbool\u001b[39m(soup\u001b[38;5;241m.\u001b[39mfind(\u001b[38;5;124m'\u001b[39m\u001b[38;5;124mimg\u001b[39m\u001b[38;5;124m'\u001b[39m, {\u001b[38;5;124m'\u001b[39m\u001b[38;5;124mclass\u001b[39m\u001b[38;5;124m'\u001b[39m: \u001b[38;5;124m'\u001b[39m\u001b[38;5;124mbe6sR\u001b[39m\u001b[38;5;124m'\u001b[39m}))\n",
      "\u001b[1;31mAttributeError\u001b[0m: 'NoneType' object has no attribute 'string'"
     ]
    }
   ],
   "source": [
    "import requests\n",
    "from bs4 import BeautifulSoup\n",
    "\n",
    "# Instagram profile URL\n",
    "url = \"https://www.instagram.com/artistpng/\"\n",
    "\n",
    "# Send GET request to the profile URL\n",
    "response = requests.get(url)\n",
    "\n",
    "# Parsing the HTML content using BeautifulSoup\n",
    "soup = BeautifulSoup(response.content, 'html.parser')\n",
    "\n",
    "# Checking if the profile is private\n",
    "is_private = soup.find('h2', {'class': 'rkEop'}).string == \"This Account is Private\"\n",
    "\n",
    "# Checking if the profile has a profile picture\n",
    "has_profile_picture = bool(soup.find('img', {'class': 'be6sR'}))\n",
    "\n",
    "print(\"Private account: \", is_private)\n",
    "print(\"Profile picture exists: \", has_profile_picture)\n"
   ]
  },
  {
   "cell_type": "code",
   "execution_count": 26,
   "id": "726333fa-197f-4e7f-b156-fa5fdcf39d72",
   "metadata": {
    "tags": []
   },
   "outputs": [
    {
     "name": "stdout",
     "output_type": "stream",
     "text": [
      "ok\n"
     ]
    }
   ],
   "source": [
    "from selenium import webdriver\n",
    "from selenium.webdriver.common.by import By\n",
    "from selenium.webdriver.support.ui import WebDriverWait\n",
    "from selenium.webdriver.support import expected_conditions as EC\n",
    "print(\"ok\")\n"
   ]
  },
  {
   "cell_type": "code",
   "execution_count": 83,
   "id": "466d894c-7336-4b9f-ae3d-917765cedb05",
   "metadata": {
    "tags": []
   },
   "outputs": [
    {
     "name": "stdout",
     "output_type": "stream",
     "text": [
      "This account is public\n"
     ]
    }
   ],
   "source": [
    "# working \n",
    "\n",
    "from selenium import webdriver\n",
    "from selenium.webdriver.common.by import By\n",
    "from selenium.webdriver.support.ui import WebDriverWait\n",
    "from selenium.webdriver.support import expected_conditions as EC\n",
    "\n",
    "\n",
    "# Initialize the webdriver\n",
    "driver = webdriver.Chrome()\n",
    "\n",
    "# Open the Instagram account\n",
    "driver.get(\"https://www.instagram.com/creativekerala/\")\n",
    "\n",
    "try:\n",
    "    # Wait for the account status element to appear\n",
    "    wait = WebDriverWait(driver, 10)\n",
    "    status_element = wait.until(EC.presence_of_element_located((By.XPATH, \"//h2[contains(text(),'This Account is Private')]\")))\n",
    "    \n",
    "    # Check if the account is private\n",
    "    if status_element:\n",
    "        print(\"This account is private\")\n",
    "except:\n",
    "    # If the account is public or there was an error, print the account is public\n",
    "    print(\"This account is public\")\n",
    "\n",
    "# Close the webdriver\n",
    "driver.quit()\n"
   ]
  },
  {
   "cell_type": "code",
   "execution_count": 81,
   "id": "21521180-9d69-453d-9842-e067bb4e2a7d",
   "metadata": {
    "tags": []
   },
   "outputs": [
    {
     "name": "stdout",
     "output_type": "stream",
     "text": [
      "This account is public\n"
     ]
    }
   ],
   "source": [
    "# working \n",
    "\n",
    "from selenium import webdriver\n",
    "from selenium.webdriver.common.by import By\n",
    "from selenium.webdriver.support.ui import WebDriverWait\n",
    "from selenium.webdriver.support import expected_conditions as EC\n",
    "from selenium.webdriver.chrome.options import Options\n",
    "\n",
    "\n",
    "# Create options for headless mode\n",
    "chrome_options = Options()\n",
    "chrome_options.add_argument('--headless')\n",
    "#chrome_options.add_argument('--disable-gpu')\n",
    "chrome_options.add_argument('--disable-blink-features=AutomationControlled')\n",
    "\n",
    "\n",
    "# Initialize the webdriver with headless mode\n",
    "driver = webdriver.Chrome(options=chrome_options)\n",
    "\n",
    "# Open the Instagram account\n",
    "driver.get(\"https://www.instagram.com/rajaprabhavr/\")\n",
    "\n",
    "try:\n",
    "    # Wait for the account status element to appear\n",
    "    wait = WebDriverWait(driver, 10)\n",
    "    status_element = wait.until(EC.presence_of_element_located((By.XPATH, \"//h2[contains(text(),'This Account is Private')]\")))\n",
    "    \n",
    "    # Check if the account is private\n",
    "    if status_element:\n",
    "        print(\"This account is private\")\n",
    "except:\n",
    "    # If the account is public or there was an error, print the account is public\n",
    "    print(\"This account is public\")\n",
    "\n",
    "# Close the webdriver\n",
    "driver.quit()\n"
   ]
  },
  {
   "cell_type": "code",
   "execution_count": 70,
   "id": "1e651d2a-e8c4-4bee-bda2-263dabffe0c3",
   "metadata": {
    "tags": []
   },
   "outputs": [
    {
     "ename": "TimeoutException",
     "evalue": "Message: \nStacktrace:\nBacktrace:\n\tGetHandleVerifier [0x006FDCE3+50899]\n\t(No symbol) [0x0068E111]\n\t(No symbol) [0x00595588]\n\t(No symbol) [0x005C08F9]\n\t(No symbol) [0x005C0AFB]\n\t(No symbol) [0x005EF902]\n\t(No symbol) [0x005DB944]\n\t(No symbol) [0x005EE01C]\n\t(No symbol) [0x005DB6F6]\n\t(No symbol) [0x005B7708]\n\t(No symbol) [0x005B886D]\n\tGetHandleVerifier [0x00963EAE+2566302]\n\tGetHandleVerifier [0x009992B1+2784417]\n\tGetHandleVerifier [0x0099327C+2759788]\n\tGetHandleVerifier [0x00795740+672048]\n\t(No symbol) [0x00698872]\n\t(No symbol) [0x006941C8]\n\t(No symbol) [0x006942AB]\n\t(No symbol) [0x006871B7]\n\tBaseThreadInitThunk [0x771E7D49+25]\n\tRtlInitializeExceptionChain [0x77E3B74B+107]\n\tRtlClearBits [0x77E3B6CF+191]\n",
     "output_type": "error",
     "traceback": [
      "\u001b[1;31m---------------------------------------------------------------------------\u001b[0m",
      "\u001b[1;31mTimeoutException\u001b[0m                          Traceback (most recent call last)",
      "Cell \u001b[1;32mIn[70], line 14\u001b[0m\n\u001b[0;32m     12\u001b[0m \u001b[38;5;66;03m# Wait for the account status element to appear\u001b[39;00m\n\u001b[0;32m     13\u001b[0m wait \u001b[38;5;241m=\u001b[39m WebDriverWait(driver, \u001b[38;5;241m20\u001b[39m)\n\u001b[1;32m---> 14\u001b[0m status_element \u001b[38;5;241m=\u001b[39m \u001b[43mwait\u001b[49m\u001b[38;5;241;43m.\u001b[39;49m\u001b[43muntil\u001b[49m\u001b[43m(\u001b[49m\u001b[43mEC\u001b[49m\u001b[38;5;241;43m.\u001b[39;49m\u001b[43mvisibility_of_element_located\u001b[49m\u001b[43m(\u001b[49m\u001b[43m(\u001b[49m\u001b[43mBy\u001b[49m\u001b[38;5;241;43m.\u001b[39;49m\u001b[43mXPATH\u001b[49m\u001b[43m,\u001b[49m\u001b[43m \u001b[49m\u001b[38;5;124;43m'\u001b[39;49m\u001b[38;5;124;43m/html/body/div[2]/div/div/div[1]/div/div/div/div[1]/div[2]/section/main/div/div[2]/article/div/div/h2\u001b[39;49m\u001b[38;5;124;43m'\u001b[39;49m\u001b[43m)\u001b[49m\u001b[43m)\u001b[49m\u001b[43m)\u001b[49m\n\u001b[0;32m     16\u001b[0m \u001b[38;5;66;03m# Check if the account is private\u001b[39;00m\n\u001b[0;32m     17\u001b[0m \u001b[38;5;28;01mif\u001b[39;00m status_element\u001b[38;5;241m.\u001b[39mtext \u001b[38;5;241m==\u001b[39m \u001b[38;5;124m'\u001b[39m\u001b[38;5;124mThis Account is Private\u001b[39m\u001b[38;5;124m'\u001b[39m:\n",
      "File \u001b[1;32mc:\\users\\geo joseph\\appdata\\local\\programs\\python\\python38\\lib\\site-packages\\selenium\\webdriver\\support\\wait.py:95\u001b[0m, in \u001b[0;36mWebDriverWait.until\u001b[1;34m(self, method, message)\u001b[0m\n\u001b[0;32m     93\u001b[0m     \u001b[38;5;28;01mif\u001b[39;00m time\u001b[38;5;241m.\u001b[39mmonotonic() \u001b[38;5;241m>\u001b[39m end_time:\n\u001b[0;32m     94\u001b[0m         \u001b[38;5;28;01mbreak\u001b[39;00m\n\u001b[1;32m---> 95\u001b[0m \u001b[38;5;28;01mraise\u001b[39;00m TimeoutException(message, screen, stacktrace)\n",
      "\u001b[1;31mTimeoutException\u001b[0m: Message: \nStacktrace:\nBacktrace:\n\tGetHandleVerifier [0x006FDCE3+50899]\n\t(No symbol) [0x0068E111]\n\t(No symbol) [0x00595588]\n\t(No symbol) [0x005C08F9]\n\t(No symbol) [0x005C0AFB]\n\t(No symbol) [0x005EF902]\n\t(No symbol) [0x005DB944]\n\t(No symbol) [0x005EE01C]\n\t(No symbol) [0x005DB6F6]\n\t(No symbol) [0x005B7708]\n\t(No symbol) [0x005B886D]\n\tGetHandleVerifier [0x00963EAE+2566302]\n\tGetHandleVerifier [0x009992B1+2784417]\n\tGetHandleVerifier [0x0099327C+2759788]\n\tGetHandleVerifier [0x00795740+672048]\n\t(No symbol) [0x00698872]\n\t(No symbol) [0x006941C8]\n\t(No symbol) [0x006942AB]\n\t(No symbol) [0x006871B7]\n\tBaseThreadInitThunk [0x771E7D49+25]\n\tRtlInitializeExceptionChain [0x77E3B74B+107]\n\tRtlClearBits [0x77E3B6CF+191]\n"
     ]
    }
   ],
   "source": [
    "from selenium import webdriver\n",
    "from selenium.webdriver.common.by import By\n",
    "from selenium.webdriver.support.ui import WebDriverWait\n",
    "from selenium.webdriver.support import expected_conditions as EC\n",
    "\n",
    "# Create a new Chrome instance\n",
    "driver = webdriver.Chrome()\n",
    "\n",
    "# Navigate to the Instagram account URL\n",
    "driver.get(\"https://www.instagram.com/creativekerala/\")\n",
    "\n",
    "# Wait for the account status element to appear\n",
    "wait = WebDriverWait(driver, 20)\n",
    "status_element = wait.until(EC.visibility_of_element_located((By.XPATH, '/html/body/div[2]/div/div/div[1]/div/div/div/div[1]/div[2]/section/main/div/div[2]/article/div/div/h2')))\n",
    "\n",
    "# Check if the account is private\n",
    "if status_element.text == 'This Account is Private':\n",
    "    print('The account is private.')\n",
    "else:\n",
    "    print('The account is public.')\n",
    "\n",
    "# Close the browser window\n",
    "driver.quit()\n",
    "\n",
    "\n"
   ]
  },
  {
   "cell_type": "code",
   "execution_count": 74,
   "id": "ff407c47-6629-43bb-92db-5df4054bda16",
   "metadata": {
    "tags": []
   },
   "outputs": [
    {
     "ename": "AttributeError",
     "evalue": "'WebDriver' object has no attribute 'find_element_by_name'",
     "output_type": "error",
     "traceback": [
      "\u001b[1;31m---------------------------------------------------------------------------\u001b[0m",
      "\u001b[1;31mAttributeError\u001b[0m                            Traceback (most recent call last)",
      "Cell \u001b[1;32mIn[74], line 24\u001b[0m\n\u001b[0;32m     21\u001b[0m wait\u001b[38;5;241m.\u001b[39muntil(EC\u001b[38;5;241m.\u001b[39mpresence_of_element_located((By\u001b[38;5;241m.\u001b[39mNAME, \u001b[38;5;124m\"\u001b[39m\u001b[38;5;124musername\u001b[39m\u001b[38;5;124m\"\u001b[39m)))\n\u001b[0;32m     23\u001b[0m \u001b[38;5;66;03m# Fill in login credentials and submit the form\u001b[39;00m\n\u001b[1;32m---> 24\u001b[0m username \u001b[38;5;241m=\u001b[39m \u001b[43mdriver\u001b[49m\u001b[38;5;241;43m.\u001b[39;49m\u001b[43mfind_element_by_name\u001b[49m(\u001b[38;5;124m\"\u001b[39m\u001b[38;5;124musername\u001b[39m\u001b[38;5;124m\"\u001b[39m)\n\u001b[0;32m     25\u001b[0m password \u001b[38;5;241m=\u001b[39m driver\u001b[38;5;241m.\u001b[39mfind_element_by_name(\u001b[38;5;124m\"\u001b[39m\u001b[38;5;124mpassword\u001b[39m\u001b[38;5;124m\"\u001b[39m)\n\u001b[0;32m     26\u001b[0m username\u001b[38;5;241m.\u001b[39msend_keys(\u001b[38;5;124m\"\u001b[39m\u001b[38;5;124myour_username\u001b[39m\u001b[38;5;124m\"\u001b[39m)\n",
      "\u001b[1;31mAttributeError\u001b[0m: 'WebDriver' object has no attribute 'find_element_by_name'"
     ]
    }
   ],
   "source": [
    "from selenium import webdriver\n",
    "from selenium.webdriver.common.keys import Keys\n",
    "from selenium.webdriver.common.by import By\n",
    "from selenium.webdriver.support.ui import WebDriverWait\n",
    "from selenium.webdriver.support import expected_conditions as EC\n",
    "from selenium.common.exceptions import TimeoutException\n",
    "\n",
    "# Set up options for Chrome driver to run in headless mode\n",
    "options = webdriver.ChromeOptions()\n",
    "options.add_argument('headless')\n",
    "options.add_argument('window-size=1200x600')\n",
    "\n",
    "# Set up the Chrome driver with the configured options\n",
    "driver = webdriver.Chrome(options=options)\n",
    "\n",
    "# Navigate to Instagram login page\n",
    "driver.get(\"https://www.instagram.com/accounts/login/\")\n",
    "\n",
    "# Wait for login page to load\n",
    "wait = WebDriverWait(driver, 10)\n",
    "wait.until(EC.presence_of_element_located((By.NAME, \"username\")))\n",
    "\n",
    "# Fill in login credentials and submit the form\n",
    "username = driver.find_element_by_name(\"username\")\n",
    "password = driver.find_element_by_name(\"password\")\n",
    "username.send_keys(\"your_username\")\n",
    "password.send_keys(\"your_password\")\n",
    "password.send_keys(Keys.RETURN)\n",
    "\n",
    "# Wait for the home page to load\n",
    "wait.until(EC.presence_of_element_located((By.XPATH, \"//a[@href='/accounts/edit/']\")))\n",
    "\n",
    "# Navigate to the profile page\n",
    "driver.get(\"https://www.instagram.com/creativekerala/\")\n",
    "\n",
    "# Wait for the account status element to appear\n",
    "wait = WebDriverWait(driver, 10)\n",
    "status_element = wait.until(EC.visibility_of_element_located((By.XPATH, \"//*[@id='mount_0_0']/div/div/div[1]/div/div/div[1]/div/div[2]/div/div[2]/div[1]/div/div[2]/div/div/div[1]/h2\")))\n",
    "\n",
    "# Check if the account is private\n",
    "if status_element:\n",
    "    if \"This Account is Private\" in status_element.text:\n",
    "        print(\"This is a private account.\")\n",
    "    else:\n",
    "        print(\"This is not a private account.\")\n"
   ]
  }
 ],
 "metadata": {
  "kernelspec": {
   "display_name": "Python 3 (ipykernel)",
   "language": "python",
   "name": "python3"
  },
  "language_info": {
   "codemirror_mode": {
    "name": "ipython",
    "version": 3
   },
   "file_extension": ".py",
   "mimetype": "text/x-python",
   "name": "python",
   "nbconvert_exporter": "python",
   "pygments_lexer": "ipython3",
   "version": "3.8.5"
  }
 },
 "nbformat": 4,
 "nbformat_minor": 5
}
