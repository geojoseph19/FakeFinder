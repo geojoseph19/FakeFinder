{
 "cells": [
  {
   "cell_type": "code",
   "execution_count": 91,
   "id": "98f01a51-8750-4d1a-bcb2-4961dd9c3783",
   "metadata": {
    "tags": []
   },
   "outputs": [
    {
     "name": "stdout",
     "output_type": "stream",
     "text": [
      "ꜱᴛɪʟʟ ɪ ʀɪꜱᴇ ‼️🇮🇳  |  🇦🇪\n",
      "24\n"
     ]
    }
   ],
   "source": [
    "import json\n",
    "\n",
    "# The coded form of the text\n",
    "coded_text = r\"\\ua731\\u1d1b\\u026a\\u029f\\u029f \\u026a \\u0280\\u026a\\ua731\\u1d07 \\u203c\\ufe0f\\ud83c\\uddee\\ud83c\\uddf3  |  \\ud83c\\udde6\\ud83c\\uddea\"\n",
    "\n",
    "# Convert the coded text to the original text using json.loads()\n",
    "original_text = json.loads('\"' + coded_text.replace('\"', '\\\\\"') + '\"')\n",
    "\n",
    "# Print the original text\n",
    "print(original_text)\n",
    "print(len(original_text))"
   ]
  },
  {
   "cell_type": "code",
   "execution_count": 93,
   "id": "6c98321a-f634-4025-9454-762bb5183fc9",
   "metadata": {
    "tags": []
   },
   "outputs": [
    {
     "name": "stdout",
     "output_type": "stream",
     "text": [
      "https://scontent-lga3-1.cdninstagram.com/v/t51.2885-19/335634708_204597838834554_5777916953614198724_n.jpg?stp=dst-jpg_s100x100&_nc_cat=110&ccb=1-7&_nc_sid=8ae9d6&_nc_ohc=xHUH8OkIl_0AX-7uEeD&_nc_ht=scontent-lga3-1.cdninstagram.com&oh=00_AfB8g7stqVBxB7aZPyqXIJAROFjbvwbrpzTbXDJJiDPQTQ&oe=645CADBE\n",
      "€terπa| B|!$$ ✨\n",
      "♪Mu$!¢♪•••W!th0ut Mu$!¢ L!fe W0u|d Be A M!$take ♪♪♪\n",
      "# Att!tude !s a l!l th!ng that makes \n",
      "a b!g d!fference #\n",
      "🔒\n",
      "26\n"
     ]
    }
   ],
   "source": [
    "#grabbing bio \n",
    "\n",
    "import requests\n",
    "from bs4 import BeautifulSoup\n",
    "import json\n",
    "\n",
    "# The URL of the Instagram profile\n",
    "url = \"https://www.instagram.com/blessy_k_s/\"\n",
    "\n",
    "# Send a GET request to the URL and get the HTML content\n",
    "response = requests.get(url)\n",
    "html_content = response.text\n",
    "\n",
    "# Parse the HTML content using BeautifulSoup\n",
    "soup = BeautifulSoup(html_content, \"html.parser\")\n",
    "\n",
    "# Find the <script> tag with type=\"application/ld+json\"\n",
    "script_tag = soup.find(\"script\", {\"type\": \"application/ld+json\"})\n",
    "\n",
    "#print(script_tag)\n",
    "\n",
    "# Extract the contents of the <script> tag\n",
    "json_data = json.loads(script_tag.contents[0])\n",
    "\n",
    "#print(json_data)\n",
    "\n",
    "#print(json.dumps(json_data, indent=2))\n",
    "\n",
    "\n",
    "\n",
    "\n",
    "# Extract the \"description\" key from the JSON data\n",
    "description = json_data[\"description\"]\n",
    "\n",
    "#checking for profile picture\n",
    "profile_img_url = json_data['author']['image']\n",
    "print(profile_img_url)\n",
    "if profile_img_url == \"\":\n",
    "    ppic = 0\n",
    "else:\n",
    "    ppic = 1\n",
    "# Print the description\n",
    "print(description)\n",
    "\n",
    "\n",
    "priv = json_data['interactionStatistic'][0]['userInteractionCount']\n",
    "\n",
    "print(priv)\n",
    "\n"
   ]
  },
  {
   "cell_type": "code",
   "execution_count": 90,
   "id": "eca4c27b-d0d9-4e86-ae9f-86af9d8108b5",
   "metadata": {
    "tags": []
   },
   "outputs": [
    {
     "ename": "AttributeError",
     "evalue": "'NoneType' object has no attribute 'text'",
     "output_type": "error",
     "traceback": [
      "\u001b[1;31m---------------------------------------------------------------------------\u001b[0m",
      "\u001b[1;31mAttributeError\u001b[0m                            Traceback (most recent call last)",
      "Cell \u001b[1;32mIn[90], line 10\u001b[0m\n\u001b[0;32m      7\u001b[0m response \u001b[38;5;241m=\u001b[39m requests\u001b[38;5;241m.\u001b[39mget(url)\n\u001b[0;32m      8\u001b[0m soup \u001b[38;5;241m=\u001b[39m BeautifulSoup(response\u001b[38;5;241m.\u001b[39mcontent, \u001b[38;5;124m'\u001b[39m\u001b[38;5;124mhtml.parser\u001b[39m\u001b[38;5;124m'\u001b[39m)\n\u001b[1;32m---> 10\u001b[0m is_private \u001b[38;5;241m=\u001b[39m \u001b[43msoup\u001b[49m\u001b[38;5;241;43m.\u001b[39;49m\u001b[43mfind\u001b[49m\u001b[43m(\u001b[49m\u001b[38;5;124;43m'\u001b[39;49m\u001b[38;5;124;43mh2\u001b[39;49m\u001b[38;5;124;43m'\u001b[39;49m\u001b[43m,\u001b[49m\u001b[43m \u001b[49m\u001b[43m{\u001b[49m\u001b[38;5;124;43m'\u001b[39;49m\u001b[38;5;124;43mclass\u001b[39;49m\u001b[38;5;124;43m'\u001b[39;49m\u001b[43m:\u001b[49m\u001b[43m \u001b[49m\u001b[38;5;124;43m'\u001b[39;49m\u001b[38;5;124;43mrkEop\u001b[39;49m\u001b[38;5;124;43m'\u001b[39;49m\u001b[43m}\u001b[49m\u001b[43m)\u001b[49m\u001b[38;5;241;43m.\u001b[39;49m\u001b[43mtext\u001b[49m \u001b[38;5;241m==\u001b[39m \u001b[38;5;124m'\u001b[39m\u001b[38;5;124mThis Account is Private\u001b[39m\u001b[38;5;124m'\u001b[39m\n\u001b[0;32m     11\u001b[0m \u001b[38;5;28;01mif\u001b[39;00m is_private:\n\u001b[0;32m     12\u001b[0m     \u001b[38;5;28mprint\u001b[39m(\u001b[38;5;124m\"\u001b[39m\u001b[38;5;124mThis is a private account.\u001b[39m\u001b[38;5;124m\"\u001b[39m)\n",
      "\u001b[1;31mAttributeError\u001b[0m: 'NoneType' object has no attribute 'text'"
     ]
    }
   ],
   "source": [
    "import requests\n",
    "from bs4 import BeautifulSoup\n",
    "\n",
    "username = 'example_username'\n",
    "url = f'https://www.instagram.com/rajaprabhavr/'\n",
    "\n",
    "response = requests.get(url)\n",
    "soup = BeautifulSoup(response.content, 'html.parser')\n",
    "\n",
    "is_private = soup.find('h2', {'class': 'rkEop'}).text == 'This Account is Private'\n",
    "if is_private:\n",
    "    print(\"This is a private account.\")\n",
    "else:\n",
    "    print(\"This is a public account.\")\n"
   ]
  },
  {
   "cell_type": "code",
   "execution_count": null,
   "id": "d70da060-059f-409f-9f92-24aa226fb511",
   "metadata": {},
   "outputs": [],
   "source": [
    "#abandoned bs scrap \n",
    "\n",
    "import requests\n",
    "from bs4 import BeautifulSoup\n",
    "\n",
    "# Replace with the username you want to scrape\n",
    "username = 'example_username'\n",
    "\n",
    "# Define the URL to scrape\n",
    "url = f'https://www.instagram.com/artistpng/'\n",
    "\n",
    "# Send a GET request to the URL\n",
    "response = requests.get(url)\n",
    "\n",
    "# Check if the request was successful\n",
    "if response.status_code == 200:\n",
    "    # Parse the HTML content using BeautifulSoup\n",
    "    soup = BeautifulSoup(response.content, 'html.parser')\n",
    "\n",
    "    # Find the og:description meta tag\n",
    "    meta_tag = soup.find('meta', {'property': 'og:description'})\n",
    "\n",
    "    # Check if the meta tag was found before accessing its content attribute\n",
    "    if meta_tag:\n",
    "        content = meta_tag.get('content')\n",
    "\n",
    "        # Print the content to debug the issue\n",
    "        print(f\"Content: {content}\")\n",
    "\n",
    "        # Extract the follower count, following count, and number of posts from the content\n",
    "        parts = content.split(' - ')\n",
    "\n",
    "        # Print the parts list to debug the issue\n",
    "        print(f\"Parts: {parts}\")\n",
    "\n",
    "        followers = parts[0].split()[0]\n",
    "        following = parts[1].split()[0]\n",
    "        posts = parts[2].split()[0]\n",
    "\n",
    "        # Print out the public data\n",
    "        print(f\"Followers: {followers}\")\n",
    "        print(f\"Following: {following}\")\n",
    "        print(f\"Number of posts: {posts}\")\n",
    "    else:\n",
    "        print(\"Could not find the public data\")\n",
    "else:\n",
    "    # If the request was unsuccessful, print an error message\n",
    "    print(f\"Error: {response.status_code}\")\n",
    "    \n",
    "    \n",
    "    \n",
    "    \n",
    "    \n",
    "    \n",
    "\"\"\"\n",
    "    # Check if the meta tag was found before accessing its content attribute\n",
    "    if meta_tag:\n",
    "        content = meta_tag.get('content')\n",
    "\n",
    "        # Extract the follower count, following count, and number of posts from the content\n",
    "        parts = content.split(' - ')\n",
    "\n",
    "        # Check if the parts list has at least three elements before trying to access the third element\n",
    "        if len(parts) >= 3:\n",
    "            followers = parts[0].split()[0]\n",
    "            following = parts[1].split()[0]\n",
    "            posts = parts[2].split()[0]\n",
    "\n",
    "            # Print out the public data\n",
    "            print(f\"Followers: {followers}\")\n",
    "            print(f\"Following: {following}\")\n",
    "            print(f\"Number of posts: {posts}\")\n",
    "        else:\n",
    "            print(\"Could not find the public data\")\n",
    "    else:\n",
    "        print(\"Could not find the public data\")\n",
    "else:\n",
    "    # If the request was unsuccessful, print an error message\n",
    "    print(f\"Error: {response.status_code}\")\n",
    "    \n",
    "\"\"\"\n"
   ]
  },
  {
   "cell_type": "code",
   "execution_count": 34,
   "id": "14952c6a-b525-45e6-89df-2589a5c7a765",
   "metadata": {
    "tags": []
   },
   "outputs": [
    {
     "ename": "AttributeError",
     "evalue": "'NoneType' object has no attribute 'string'",
     "output_type": "error",
     "traceback": [
      "\u001b[1;31m---------------------------------------------------------------------------\u001b[0m",
      "\u001b[1;31mAttributeError\u001b[0m                            Traceback (most recent call last)",
      "Cell \u001b[1;32mIn[34], line 14\u001b[0m\n\u001b[0;32m     11\u001b[0m soup \u001b[38;5;241m=\u001b[39m BeautifulSoup(response\u001b[38;5;241m.\u001b[39mcontent, \u001b[38;5;124m'\u001b[39m\u001b[38;5;124mhtml.parser\u001b[39m\u001b[38;5;124m'\u001b[39m)\n\u001b[0;32m     13\u001b[0m \u001b[38;5;66;03m# Checking if the profile is private\u001b[39;00m\n\u001b[1;32m---> 14\u001b[0m is_private \u001b[38;5;241m=\u001b[39m \u001b[43msoup\u001b[49m\u001b[38;5;241;43m.\u001b[39;49m\u001b[43mfind\u001b[49m\u001b[43m(\u001b[49m\u001b[38;5;124;43m'\u001b[39;49m\u001b[38;5;124;43mh2\u001b[39;49m\u001b[38;5;124;43m'\u001b[39;49m\u001b[43m,\u001b[49m\u001b[43m \u001b[49m\u001b[43m{\u001b[49m\u001b[38;5;124;43m'\u001b[39;49m\u001b[38;5;124;43mclass\u001b[39;49m\u001b[38;5;124;43m'\u001b[39;49m\u001b[43m:\u001b[49m\u001b[43m \u001b[49m\u001b[38;5;124;43m'\u001b[39;49m\u001b[38;5;124;43mrkEop\u001b[39;49m\u001b[38;5;124;43m'\u001b[39;49m\u001b[43m}\u001b[49m\u001b[43m)\u001b[49m\u001b[38;5;241;43m.\u001b[39;49m\u001b[43mstring\u001b[49m \u001b[38;5;241m==\u001b[39m \u001b[38;5;124m\"\u001b[39m\u001b[38;5;124mThis Account is Private\u001b[39m\u001b[38;5;124m\"\u001b[39m\n\u001b[0;32m     16\u001b[0m \u001b[38;5;66;03m# Checking if the profile has a profile picture\u001b[39;00m\n\u001b[0;32m     17\u001b[0m has_profile_picture \u001b[38;5;241m=\u001b[39m \u001b[38;5;28mbool\u001b[39m(soup\u001b[38;5;241m.\u001b[39mfind(\u001b[38;5;124m'\u001b[39m\u001b[38;5;124mimg\u001b[39m\u001b[38;5;124m'\u001b[39m, {\u001b[38;5;124m'\u001b[39m\u001b[38;5;124mclass\u001b[39m\u001b[38;5;124m'\u001b[39m: \u001b[38;5;124m'\u001b[39m\u001b[38;5;124mbe6sR\u001b[39m\u001b[38;5;124m'\u001b[39m}))\n",
      "\u001b[1;31mAttributeError\u001b[0m: 'NoneType' object has no attribute 'string'"
     ]
    }
   ],
   "source": [
    "import requests\n",
    "from bs4 import BeautifulSoup\n",
    "\n",
    "# Instagram profile URL\n",
    "url = \"https://www.instagram.com/artistpng/\"\n",
    "\n",
    "# Send GET request to the profile URL\n",
    "response = requests.get(url)\n",
    "\n",
    "# Parsing the HTML content using BeautifulSoup\n",
    "soup = BeautifulSoup(response.content, 'html.parser')\n",
    "\n",
    "# Checking if the profile is private\n",
    "is_private = soup.find('h2', {'class': 'rkEop'}).string == \"This Account is Private\"\n",
    "\n",
    "# Checking if the profile has a profile picture\n",
    "has_profile_picture = bool(soup.find('img', {'class': 'be6sR'}))\n",
    "\n",
    "print(\"Private account: \", is_private)\n",
    "print(\"Profile picture exists: \", has_profile_picture)\n"
   ]
  }
 ],
 "metadata": {
  "kernelspec": {
   "display_name": "Python 3 (ipykernel)",
   "language": "python",
   "name": "python3"
  },
  "language_info": {
   "codemirror_mode": {
    "name": "ipython",
    "version": 3
   },
   "file_extension": ".py",
   "mimetype": "text/x-python",
   "name": "python",
   "nbconvert_exporter": "python",
   "pygments_lexer": "ipython3",
   "version": "3.8.5"
  }
 },
 "nbformat": 4,
 "nbformat_minor": 5
}
