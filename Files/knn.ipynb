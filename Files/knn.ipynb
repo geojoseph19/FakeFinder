{
 "cells": [
  {
   "cell_type": "code",
   "execution_count": 1,
   "id": "cb01eef8-6ba8-402d-92d1-966fc1e23d52",
   "metadata": {
    "tags": []
   },
   "outputs": [
    {
     "name": "stdout",
     "output_type": "stream",
     "text": [
      "Accuracy: 0.9071428571428571\n"
     ]
    }
   ],
   "source": [
    "import pandas as pd\n",
    "import pickle\n",
    "from sklearn.model_selection import train_test_split\n",
    "from sklearn.neighbors import KNeighborsClassifier\n",
    "\n",
    "from sklearn.metrics import accuracy_score\n",
    "\n",
    "git_link = 'https://github.com/geojoseph19/FakeFinder/raw/master/Datasets/Combined/insta_dataset.csv'\n",
    "data = pd.read_csv(git_link)\n",
    "\n",
    "X = data.drop('fake', axis=1)\n",
    "y = data['fake']\n",
    "\n",
    "X_train, X_test, y_train, y_test = train_test_split(X, y, test_size=0.2, random_state=42)\n",
    "\n",
    "knn = KNeighborsClassifier(n_neighbors=3)\n",
    "knn.fit(X_train, y_train)\n",
    "\n",
    "with open('knn_model.pkl', 'wb') as f:\n",
    "    pickle.dump(knn, f)\n",
    "\n",
    "# make a prediction on the test data\n",
    "y_pred = knn.predict(X_test)\n",
    "\n",
    "# calculate the accuracy score\n",
    "accuracy = accuracy_score(y_test, y_pred)\n",
    "print('Accuracy:', accuracy)\n"
   ]
  },
  {
   "cell_type": "code",
   "execution_count": 2,
   "id": "3e69be5e-484e-47e8-b372-c13026197f41",
   "metadata": {
    "tags": []
   },
   "outputs": [
    {
     "name": "stdout",
     "output_type": "stream",
     "text": [
      "[1]\n"
     ]
    }
   ],
   "source": [
    "with open('knn_model.pkl', 'rb') as f:\n",
    "    knn_loaded = pickle.load(f)\n",
    "    \n",
    "pdata = [[1, 0.0, 2, 0.0, 0, 148, 0, 0, 6, 39, 12]]\n",
    "\n",
    "# create a dataframe with the input data and set the column names to match the training data\n",
    "new_data = pd.DataFrame(pdata, columns=X.columns)\n",
    "\n",
    "# make a prediction using the modified input data\n",
    "prediction = knn_loaded.predict(new_data)\n",
    "print(prediction)\n"
   ]
  },
  {
   "cell_type": "code",
   "execution_count": 3,
   "id": "9715d969-087c-4885-b798-4403e0c16c5d",
   "metadata": {
    "tags": []
   },
   "outputs": [
    {
     "name": "stdout",
     "output_type": "stream",
     "text": [
      "              precision    recall  f1-score   support\n",
      "\n",
      "           0       0.93      0.89      0.91        71\n",
      "           1       0.89      0.93      0.91        69\n",
      "\n",
      "    accuracy                           0.91       140\n",
      "   macro avg       0.91      0.91      0.91       140\n",
      "weighted avg       0.91      0.91      0.91       140\n",
      "\n"
     ]
    },
    {
     "data": {
      "image/png": "[encoded data removed]",
      "text/plain": [
       "<Figure size 600x600 with 2 Axes>"
      ]
     },
     "metadata": {},
     "output_type": "display_data"
    }
   ],
   "source": [
    "from sklearn.metrics import classification_report, confusion_matrix\n",
    "import seaborn as sns\n",
    "import matplotlib.pyplot as plt\n",
    "\n",
    "# generate the classification report\n",
    "print(classification_report(y_test, y_pred))\n",
    "\n",
    "# generate the confusion matrix\n",
    "cm = confusion_matrix(y_test, y_pred)\n",
    "plt.figure(figsize=(6,6))\n",
    "sns.heatmap(cm, annot=True, cmap='Blues')\n",
    "plt.xlabel('Predicted labels')\n",
    "plt.ylabel('True labels')\n",
    "plt.show()\n"
   ]
  },
  {
   "cell_type": "code",
   "execution_count": 39,
   "id": "78471d6a-6b02-468a-b31a-0d75d06a5e4f",
   "metadata": {
    "tags": []
   },
   "outputs": [
    {
     "name": "stdout",
     "output_type": "stream",
     "text": [
      "1\n"
     ]
    }
   ],
   "source": [
    "# Define binary variables\n",
    "x = 1\n",
    "y = 0\n",
    "z = 1\n",
    "\n",
    "# Convert binary to decimal\n",
    "x_dec = int(str(x), 2)\n",
    "y_dec = int(str(y), 2)\n",
    "z_dec = int(str(z), 2)\n",
    "\n",
    "# Find average of decimal values\n",
    "avg_dec = int(round((x_dec + y_dec + z_dec) / 3))\n",
    "\n",
    "# Convert decimal average to binary\n",
    "avg_bin = bin(avg_dec)[2:]\n",
    "\n",
    "# Pad with leading zeros if necessary\n",
    "avg_bin = avg_bin.zfill(1)\n",
    "\n",
    "# Print result\n",
    "print(avg_bin) # output: '1'"
   ]
  }
 ],
 "metadata": {
  "kernelspec": {
   "display_name": "Python 3 (ipykernel)",
   "language": "python",
   "name": "python3"
  },
  "language_info": {
   "codemirror_mode": {
    "name": "ipython",
    "version": 3
   },
   "file_extension": ".py",
   "mimetype": "text/x-python",
   "name": "python",
   "nbconvert_exporter": "python",
   "pygments_lexer": "ipython3",
   "version": "3.8.5"
  }
 },
 "nbformat": 4,
 "nbformat_minor": 5
}
