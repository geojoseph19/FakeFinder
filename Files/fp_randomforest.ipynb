{
 "cells": [
  {
   "cell_type": "code",
   "execution_count": 18,
   "metadata": {
    "id": "MnSnuZbP1AnT",
    "tags": []
   },
   "outputs": [],
   "source": [
    "import pandas as pd \n",
    "import sklearn\n",
    "from sklearn.model_selection import train_test_split\n",
    "from sklearn.metrics import confusion_matrix, classification_report, accuracy_score\n",
    "import pickle\n",
    "from sklearn import metrics\n",
    "from sklearn.ensemble import RandomForestClassifier\n",
    "import matplotlib.pyplot as plt\n",
    "import seaborn as sns"
   ]
  },
  {
   "cell_type": "code",
   "execution_count": 19,
   "metadata": {
    "id": "pyHEEqgo14DH",
    "tags": []
   },
   "outputs": [],
   "source": [
    "git_link = 'https://github.com/geojoseph19/FakeFinder/raw/master/Datasets/Combined/insta_dataset.csv'\n",
    "dataset = pd.read_csv(git_link)"
   ]
  },
  {
   "cell_type": "code",
   "execution_count": 20,
   "metadata": {
    "tags": []
   },
   "outputs": [],
   "source": [
    "import pandas as pd\n",
    "import numpy as np\n",
    "from sklearn.ensemble import RandomForestClassifier\n",
    "from sklearn.model_selection import train_test_split\n",
    "from sklearn.metrics import classification_report, accuracy_score, confusion_matrix\n",
    "import seaborn as sns\n",
    "import matplotlib.pyplot as plt"
   ]
  },
  {
   "cell_type": "code",
   "execution_count": 21,
   "metadata": {
    "colab": {
     "base_uri": "https://localhost:8080/",
     "height": 487
    },
    "id": "pMMuKooG8BSa",
    "outputId": "7a070487-988c-4180-c901-31f7f5f1dee0",
    "tags": []
   },
   "outputs": [
    {
     "name": "stdout",
     "output_type": "stream",
     "text": [
      "Accuracy: 0.9569377990430622\n",
      "Classification report:\n",
      "              precision    recall  f1-score   support\n",
      "\n",
      "           0       0.94      0.98      0.96       105\n",
      "           1       0.98      0.93      0.96       104\n",
      "\n",
      "    accuracy                           0.96       209\n",
      "   macro avg       0.96      0.96      0.96       209\n",
      "weighted avg       0.96      0.96      0.96       209\n",
      "\n",
      "Confusion matrix:\n",
      "[[103   2]\n",
      " [  7  97]]\n"
     ]
    },
    {
     "data": {
      "image/png": "[encoded data removed]",
      "text/plain": [
       "<Figure size 640x480 with 2 Axes>"
      ]
     },
     "metadata": {},
     "output_type": "display_data"
    }
   ],
   "source": [
    "x = dataset.drop(\"fake\",axis=1)\n",
    "#print(x.head(5))\n",
    "y = dataset[\"fake\"]\n",
    "#print(y.head(5))\n",
    "\n",
    "X_train, X_test, y_train, y_test = train_test_split(x, y, test_size=0.30, random_state=42)\n",
    "rf_classifier = RandomForestClassifier(n_estimators = 20, criterion = 'entropy', random_state = 51)\n",
    "rf_classifier.fit(X_train, y_train)\n",
    "y_pred_rf = rf_classifier.predict(X_test)\n",
    "\n",
    "# Calculate metrics\n",
    "accuracy = accuracy_score(y_test, y_pred_rf)\n",
    "classification_report_str = classification_report(y_test, y_pred_rf)\n",
    "confusion_matrix = confusion_matrix(y_test, y_pred_rf)\n",
    "\n",
    "# Print metrics\n",
    "print(\"Accuracy:\", accuracy)\n",
    "print(\"Classification report:\")\n",
    "print(classification_report_str)\n",
    "print(\"Confusion matrix:\")\n",
    "print(confusion_matrix)\n",
    "\n",
    "# Plot heatmap\n",
    "sns.heatmap(confusion_matrix, annot=True, cmap='Blues', fmt='g')\n",
    "plt.title('Confusion matrix')\n",
    "plt.xlabel('Predicted label')\n",
    "plt.ylabel('True label')\n",
    "plt.show()"
   ]
  },
  {
   "cell_type": "code",
   "execution_count": null,
   "metadata": {},
   "outputs": [],
   "source": [
    "y_pred_rf = rf_classifier.predict(X_test)\n",
    "\n",
    "print(classification_report(y_test, y_pred_rf))\n",
    "print(sklearn.metrics.accuracy_score(y_test, y_pred_rf, normalize=False))\n",
    "CM = confusion_matrix(y_test, y_pred_rf)\n",
    "print(CM)\n",
    "sns.heatmap(CM)\n",
    "plt.ylabel('True Label')\n",
    "plt.xlabel('Predicted Label')\n",
    "plt.show()\n"
   ]
  },
  {
   "cell_type": "code",
   "execution_count": null,
   "metadata": {
    "colab": {
     "base_uri": "https://localhost:8080/",
     "height": 380
    },
    "id": "41VLDopyOCna",
    "outputId": "ab55f631-d8ef-4f93-a6ce-e7a13ac6d118"
   },
   "outputs": [
    {
     "ename": "KeyboardInterrupt",
     "evalue": "ignored",
     "output_type": "error",
     "traceback": [
      "\u001b[0;31m---------------------------------------------------------------------------\u001b[0m",
      "\u001b[0;31mKeyboardInterrupt\u001b[0m                         Traceback (most recent call last)",
      "\u001b[0;32m<ipython-input-29-5ae5f129e0d0>\u001b[0m in \u001b[0;36m<module>\u001b[0;34m\u001b[0m\n\u001b[0;32m----> 1\u001b[0;31m \u001b[0musername\u001b[0m \u001b[0;34m=\u001b[0m \u001b[0minput\u001b[0m\u001b[0;34m(\u001b[0m\u001b[0;34m\"Username : \"\u001b[0m\u001b[0;34m)\u001b[0m\u001b[0;34m\u001b[0m\u001b[0;34m\u001b[0m\u001b[0m\n\u001b[0m\u001b[1;32m      2\u001b[0m \u001b[0mp_name\u001b[0m \u001b[0;34m=\u001b[0m \u001b[0minput\u001b[0m\u001b[0;34m(\u001b[0m\u001b[0;34m\"Profile name : \"\u001b[0m\u001b[0;34m)\u001b[0m\u001b[0;34m\u001b[0m\u001b[0;34m\u001b[0m\u001b[0m\n\u001b[1;32m      3\u001b[0m \u001b[0mflwrs\u001b[0m \u001b[0;34m=\u001b[0m \u001b[0mint\u001b[0m\u001b[0;34m(\u001b[0m\u001b[0minput\u001b[0m\u001b[0;34m(\u001b[0m\u001b[0;34m\"No. of followers : \"\u001b[0m\u001b[0;34m)\u001b[0m\u001b[0;34m)\u001b[0m\u001b[0;34m\u001b[0m\u001b[0;34m\u001b[0m\u001b[0m\n\u001b[1;32m      4\u001b[0m \u001b[0mflwing\u001b[0m \u001b[0;34m=\u001b[0m \u001b[0mint\u001b[0m\u001b[0;34m(\u001b[0m\u001b[0minput\u001b[0m\u001b[0;34m(\u001b[0m\u001b[0;34m\"No. of following : \"\u001b[0m\u001b[0;34m)\u001b[0m\u001b[0;34m)\u001b[0m\u001b[0;34m\u001b[0m\u001b[0;34m\u001b[0m\u001b[0m\n\u001b[1;32m      5\u001b[0m \u001b[0mposts\u001b[0m \u001b[0;34m=\u001b[0m \u001b[0mint\u001b[0m\u001b[0;34m(\u001b[0m\u001b[0minput\u001b[0m\u001b[0;34m(\u001b[0m\u001b[0;34m\"No. of posts : \"\u001b[0m\u001b[0;34m)\u001b[0m\u001b[0;34m)\u001b[0m\u001b[0;34m\u001b[0m\u001b[0;34m\u001b[0m\u001b[0m\n",
      "\u001b[0;32m/usr/local/lib/python3.9/dist-packages/ipykernel/kernelbase.py\u001b[0m in \u001b[0;36mraw_input\u001b[0;34m(self, prompt)\u001b[0m\n\u001b[1;32m    858\u001b[0m                 \u001b[0;34m\"raw_input was called, but this frontend does not support input requests.\"\u001b[0m\u001b[0;34m\u001b[0m\u001b[0;34m\u001b[0m\u001b[0m\n\u001b[1;32m    859\u001b[0m             )\n\u001b[0;32m--> 860\u001b[0;31m         return self._input_request(str(prompt),\n\u001b[0m\u001b[1;32m    861\u001b[0m             \u001b[0mself\u001b[0m\u001b[0;34m.\u001b[0m\u001b[0m_parent_ident\u001b[0m\u001b[0;34m,\u001b[0m\u001b[0;34m\u001b[0m\u001b[0;34m\u001b[0m\u001b[0m\n\u001b[1;32m    862\u001b[0m             \u001b[0mself\u001b[0m\u001b[0;34m.\u001b[0m\u001b[0m_parent_header\u001b[0m\u001b[0;34m,\u001b[0m\u001b[0;34m\u001b[0m\u001b[0;34m\u001b[0m\u001b[0m\n",
      "\u001b[0;32m/usr/local/lib/python3.9/dist-packages/ipykernel/kernelbase.py\u001b[0m in \u001b[0;36m_input_request\u001b[0;34m(self, prompt, ident, parent, password)\u001b[0m\n\u001b[1;32m    902\u001b[0m             \u001b[0;32mexcept\u001b[0m \u001b[0mKeyboardInterrupt\u001b[0m\u001b[0;34m:\u001b[0m\u001b[0;34m\u001b[0m\u001b[0;34m\u001b[0m\u001b[0m\n\u001b[1;32m    903\u001b[0m                 \u001b[0;31m# re-raise KeyboardInterrupt, to truncate traceback\u001b[0m\u001b[0;34m\u001b[0m\u001b[0;34m\u001b[0m\u001b[0m\n\u001b[0;32m--> 904\u001b[0;31m                 \u001b[0;32mraise\u001b[0m \u001b[0mKeyboardInterrupt\u001b[0m\u001b[0;34m(\u001b[0m\u001b[0;34m\"Interrupted by user\"\u001b[0m\u001b[0;34m)\u001b[0m \u001b[0;32mfrom\u001b[0m \u001b[0;32mNone\u001b[0m\u001b[0;34m\u001b[0m\u001b[0;34m\u001b[0m\u001b[0m\n\u001b[0m\u001b[1;32m    905\u001b[0m             \u001b[0;32mexcept\u001b[0m \u001b[0mException\u001b[0m \u001b[0;32mas\u001b[0m \u001b[0me\u001b[0m\u001b[0;34m:\u001b[0m\u001b[0;34m\u001b[0m\u001b[0;34m\u001b[0m\u001b[0m\n\u001b[1;32m    906\u001b[0m                 \u001b[0mself\u001b[0m\u001b[0;34m.\u001b[0m\u001b[0mlog\u001b[0m\u001b[0;34m.\u001b[0m\u001b[0mwarning\u001b[0m\u001b[0;34m(\u001b[0m\u001b[0;34m\"Invalid Message:\"\u001b[0m\u001b[0;34m,\u001b[0m \u001b[0mexc_info\u001b[0m\u001b[0;34m=\u001b[0m\u001b[0;32mTrue\u001b[0m\u001b[0;34m)\u001b[0m\u001b[0;34m\u001b[0m\u001b[0;34m\u001b[0m\u001b[0m\n",
      "\u001b[0;31mKeyboardInterrupt\u001b[0m: Interrupted by user"
     ]
    }
   ],
   "source": [
    "username = input(\"Username : \")\n",
    "p_name = input(\"Profile name : \")\n",
    "flwrs = int(input(\"No. of followers : \"))\n",
    "flwing = int(input(\"No. of following : \"))\n",
    "posts = int(input(\"No. of posts : \"))\n",
    "bio = input(\"Bio : \")\n",
    "ext_url = int(input(\"External url (1/0) : \"))\n",
    "actype = input(\"Account type (pub/pri): \") \n",
    "ppic = int(input(\"Profile picture availability (1/0) : \"))\n",
    "\n"
   ]
  },
  {
   "cell_type": "code",
   "execution_count": null,
   "metadata": {
    "id": "rFEP4NnsRiqL"
   },
   "outputs": [],
   "source": [
    "#Finding username numbers ratio\n",
    "username = \"john123\"\n",
    "ratio_numusername = 0\n",
    "\n",
    "for char in username:\n",
    "    if char.isdigit():\n",
    "        ratio_numusername += 1\n",
    "\n",
    "u_ratio = ratio_numusername / len(username)\n",
    "\n",
    "\n",
    "#full name words count\n",
    "pname_count = len(p_name.split())\n",
    "\n",
    "#ratio of number of numerical characters in profile name to its length\n",
    "ratio_numpname = 0\n",
    "\n",
    "for char in p_name:\n",
    "    if char.isdigit():\n",
    "        ratio_numpname += 1\n",
    "\n",
    "p_ratio = ratio_numpname / len(p_name)\n",
    "\n",
    "#bio length\n",
    "bio_len = len(bio)\n",
    "\n",
    "#name==username\n",
    "if username == p_name :\n",
    "  nu = 1\n",
    "else:\n",
    "  nu =0\n",
    "\n",
    "  pic = 1\n",
    "\n",
    "#account type\n",
    "actype = str(actype)\n",
    "if actype.lower == \"pub\":\n",
    "  actype = 0\n",
    "else:\n",
    "  actype = 1"
   ]
  },
  {
   "cell_type": "code",
   "execution_count": null,
   "metadata": {
    "colab": {
     "base_uri": "https://localhost:8080/"
    },
    "id": "eRb7Lw29GA-E",
    "outputId": "561edd31-9d51-4250-a8aa-c43acfdf84f3"
   },
   "outputs": [
    {
     "name": "stdout",
     "output_type": "stream",
     "text": [
      "[[1, 0.42857142857142855, 2, 0.0, 0, 0, 0, 1, 10, 98, 2730]]\n",
      "   profile pic  nums/length username  fullname words  nums/length fullname  \\\n",
      "0            1              0.428571               2                   0.0   \n",
      "\n",
      "   name==username  description length  external URL  private  #posts  \\\n",
      "0               0                   0             0        1      10   \n",
      "\n",
      "   #followers  #follows  \n",
      "0          98      2730  \n",
      "[1 0 1 1 1 0 1 0 0 0 0 0 0 1 1 0 1 0 1 0 1 1 1 0 1 0 1 0 0 0 0 1 0 1 0 1 0\n",
      " 1 0 0 0 1 1 1 1 1 0 0 1 1 0 1 1 0 1 1 1 0 0 1 0 1 1 1 0 1 0 0 0 0 0 0 1 1\n",
      " 0 1 0 1 0 0 0 0 1 0 0 0 1 0 0 1 1 0 0 0 1 0 0 1 0 1 0 1 0 0 1 1 0 1 0 0 1\n",
      " 0 0 1 0 0 1 0 0 0 1 0 0 1 1 0 1 1 0 0 1 1 0 0 1 0 0 0 1 1 1 0 0 1 1 1 0 0\n",
      " 0 1 1 1 1 1 1 0 0 0 1 0 0 1 0 0 0 0 0 1 0 0 1 1 0 1 0 1 1 1 0 1 1 1 1 1 0\n",
      " 0 1 0 1 1 1 1 1 0 0 0 0 0 0 1 0 0 1 1 0 1 1 0 1]\n",
      "     profile pic  nums/length username  fullname words  nums/length fullname  \\\n",
      "674            1                   0.6               1                  0.50   \n",
      "314            1                   0.0               1                  0.33   \n",
      "\n",
      "     name==username  description length  external URL  private  #posts  \\\n",
      "674               0                   0             0        0      12   \n",
      "314               0                  91             0        0     135   \n",
      "\n",
      "     #followers  #follows  \n",
      "674          65       162  \n",
      "314        1761       905  \n",
      "output:  [1]\n"
     ]
    }
   ],
   "source": [
    "ext_url = int(ext_url)\n",
    "\n",
    "data = [[pic, u_ratio, pname_count, p_ratio, nu, bio_len, ext_url, actype, posts, flwrs, flwing]]\n",
    "\n",
    "print(data)\n",
    "\n",
    "vp = pd.DataFrame( data , columns = ['profile pic', 'nums/length username','fullname words','nums/length fullname','name==username','description length',\n",
    "                                    'external URL','private','#posts','#followers','#follows'])\n",
    "\n",
    "\n",
    "print(vp)\n",
    "\n",
    "print(y_pred_rf)\n",
    "t1 = X_test.head(2)\n",
    "print(t1)\n",
    "\n",
    "\n",
    "\n",
    "\n",
    "op = rf_classifier.predict(vp)\n",
    "print(\"output: \",op)\n",
    "\n",
    "#print(dataset.iloc[674])"
   ]
  },
  {
   "cell_type": "code",
   "execution_count": null,
   "metadata": {
    "id": "Lk6o1d2SWiq-"
   },
   "outputs": [],
   "source": [
    "import requests\n",
    "from bs4 import BeautifulSoup\n",
    "\n",
    "# The Instagram account link you want to scrape\n",
    "url = 'https://www.instagram.com/artistpng/'\n",
    "\n",
    "# Send a request to the page\n",
    "response = requests.get(url)\n",
    "\n",
    "# Parse the HTML content\n",
    "soup = BeautifulSoup(response.content, 'html.parser')\n",
    "\n",
    "print(soup)"
   ]
  }
 ],
 "metadata": {
  "colab": {
   "provenance": []
  },
  "kernelspec": {
   "display_name": "Python 3 (ipykernel)",
   "language": "python",
   "name": "python3"
  },
  "language_info": {
   "codemirror_mode": {
    "name": "ipython",
    "version": 3
   },
   "file_extension": ".py",
   "mimetype": "text/x-python",
   "name": "python",
   "nbconvert_exporter": "python",
   "pygments_lexer": "ipython3",
   "version": "3.8.5"
  }
 },
 "nbformat": 4,
 "nbformat_minor": 4
}
