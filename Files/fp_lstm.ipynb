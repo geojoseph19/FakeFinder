{
 "cells": [
  {
   "cell_type": "code",
   "execution_count": 1,
   "metadata": {
    "id": "MnSnuZbP1AnT",
    "tags": []
   },
   "outputs": [
    {
     "name": "stderr",
     "output_type": "stream",
     "text": [
      "Matplotlib is building the font cache; this may take a moment.\n"
     ]
    }
   ],
   "source": [
    "import pandas as pd \n",
    "import sklearn\n",
    "from sklearn.model_selection import train_test_split\n",
    "from sklearn.metrics import confusion_matrix, classification_report, accuracy_score\n",
    "import pickle\n",
    "from sklearn import metrics\n",
    "from sklearn.ensemble import RandomForestClassifier\n",
    "import matplotlib.pyplot as plt\n",
    "import seaborn as sns   "
   ]
  },
  {
   "cell_type": "code",
   "execution_count": 2,
   "metadata": {
    "id": "pyHEEqgo14DH",
    "tags": []
   },
   "outputs": [],
   "source": [
    "git_link = 'https://github.com/geojoseph19/FakeFinder/raw/master/Datasets/Combined/insta_dataset.csv'\n",
    "dataset = pd.read_csv(git_link)"
   ]
  },
  {
   "cell_type": "code",
   "execution_count": 3,
   "metadata": {
    "colab": {
     "base_uri": "https://localhost:8080/"
    },
    "id": "pMMuKooG8BSa",
    "outputId": "f654e716-5d1c-46f9-bbd1-a9cf583d06d7",
    "tags": []
   },
   "outputs": [
    {
     "name": "stdout",
     "output_type": "stream",
     "text": [
      "Epoch 1/10\n",
      "18/18 [==============================] - 5s 14ms/step - loss: 0.6689 - accuracy: 0.6367\n",
      "Epoch 2/10\n",
      "18/18 [==============================] - 0s 10ms/step - loss: 0.6194 - accuracy: 0.6475\n",
      "Epoch 3/10\n",
      "18/18 [==============================] - 0s 9ms/step - loss: 0.5703 - accuracy: 0.6888\n",
      "Epoch 4/10\n",
      "18/18 [==============================] - 0s 12ms/step - loss: 0.5329 - accuracy: 0.7068\n",
      "Epoch 5/10\n",
      "18/18 [==============================] - 0s 15ms/step - loss: 0.4788 - accuracy: 0.7788\n",
      "Epoch 6/10\n",
      "18/18 [==============================] - 0s 16ms/step - loss: 0.4020 - accuracy: 0.8255\n",
      "Epoch 7/10\n",
      "18/18 [==============================] - 0s 14ms/step - loss: 0.3761 - accuracy: 0.8399\n",
      "Epoch 8/10\n",
      "18/18 [==============================] - 0s 14ms/step - loss: 0.3554 - accuracy: 0.8435\n",
      "Epoch 9/10\n",
      "18/18 [==============================] - 0s 14ms/step - loss: 0.3578 - accuracy: 0.8399\n",
      "Epoch 10/10\n",
      "18/18 [==============================] - 0s 15ms/step - loss: 0.3415 - accuracy: 0.8507\n",
      "5/5 [==============================] - 1s 8ms/step - loss: 0.2399 - accuracy: 0.9286\n",
      "Test loss: 0.23985688388347626\n",
      "Test accuracy: 0.9285714030265808\n"
     ]
    }
   ],
   "source": [
    "# Import necessary libraries\n",
    "import pandas as pd\n",
    "import numpy as np\n",
    "from keras.models import Sequential\n",
    "from keras.layers import LSTM, Dense\n",
    "from sklearn.model_selection import train_test_split\n",
    "from sklearn.preprocessing import StandardScaler\n",
    "\n",
    "# Load dataset\n",
    "df = dataset\n",
    "\n",
    "# Preprocess data\n",
    "numerical_cols = ['profile pic', 'nums/length username', 'fullname words', 'nums/length fullname', 'name==username', 'description length', 'external URL', 'private', '#posts', '#followers', '#follows']\n",
    "X = df[numerical_cols]\n",
    "y = df['fake']\n",
    "\n",
    "# Normalize numerical variables\n",
    "scaler = StandardScaler()\n",
    "X_normalized = scaler.fit_transform(X)\n",
    "\n",
    "# Split data into training and testing sets\n",
    "X_train, X_test, y_train, y_test = train_test_split(X_normalized, y, test_size=0.2, random_state=40)\n",
    "\n",
    "# Define LSTM model\n",
    "model = Sequential()\n",
    "model.add(LSTM(64, input_shape=(X_train.shape[1], 1)))\n",
    "model.add(Dense(1, activation='sigmoid'))\n",
    "model.compile(loss='binary_crossentropy', optimizer='adam', metrics=['accuracy'])\n",
    "\n",
    "# Train LSTM model\n",
    "X_train_reshaped = np.reshape(X_train, (X_train.shape[0], X_train.shape[1], 1))\n",
    "model.fit(X_train_reshaped, y_train, epochs=10, batch_size=32)\n",
    "\n",
    "# Evaluate LSTM model on test data\n",
    "X_test_reshaped = np.reshape(X_test, (X_test.shape[0], X_test.shape[1], 1))\n",
    "loss, accuracy = model.evaluate(X_test_reshaped, y_test)\n",
    "print(\"Test loss:\", loss)\n",
    "print(\"Test accuracy:\", accuracy)\n",
    "\n",
    "\n"
   ]
  },
  {
   "cell_type": "code",
   "execution_count": 17,
   "metadata": {
    "id": "41VLDopyOCna"
   },
   "outputs": [],
   "source": [
    "\"\"\"username = input(\"Username : \")\n",
    "p_name = input(\"Profile name : \")\n",
    "flwrs = int(input(\"No. of followers : \"))\n",
    "flwing = int(input(\"No. of following : \"))\n",
    "posts = int(input(\"No. of posts : \"))\n",
    "bio = input(\"Bio : \")\n",
    "ext_url = int(input(\"External url (1/0) : \"))\n",
    "actype = input(\"Account type (pub/pri): \") \n",
    "ppic = int(input(\"Profile picture availability (1/0) : \")) \"\"\"\n",
    "\n",
    "\"\"\"\n",
    "#fakeac\n",
    "username = \"artistpng\"\n",
    "p_name = \"Creative Soul\"\n",
    "flwrs = 98\n",
    "flwing = 2727\n",
    "posts = 10\n",
    "bio = \"\"\n",
    "ext_url = 0\n",
    "actype = 0\n",
    "ppic = 1\n",
    "\n",
    "\"\"\"\n",
    "\n",
    "\"\"\"\n",
    "#ogac\n",
    "username = \"geojoseph19\"\n",
    "p_name = \"Geo Joseph\"\n",
    "flwrs = 2596\n",
    "flwing = 910\n",
    "posts = 54\n",
    "bio = \" 𝐗𝐈𝐗 RIT'23 ~Reality is an illusion~ 🛠️ @geoaudio\"\n",
    "ext_url = 1\n",
    "actype = 0\n",
    "ppic = 1 \n",
    "\"\"\"\n",
    "\n",
    "\"\"\"\n",
    "#ogac\n",
    "username = \"yamuna_krishna01\"\n",
    "p_name = \"Yamuna Krishna\"\n",
    "flwrs = 383\n",
    "flwing = 302\n",
    "posts = 1\n",
    "bio = \"🌸It Is During Our Darkest Moments That We Must Focus To See The Light 🌸 ♏ Ex IHRDian❤️RiTian 💻..... Wish me on Nov 09 🎂\"\n",
    "ext_url = 0\n",
    "actype = 1\n",
    "ppic = 1 \n",
    "\"\"\"\n",
    "\n",
    "#ogac\n",
    "username = \"_sonyantony_\"\n",
    "p_name = \"Sony Antony\"\n",
    "flwrs = 309\n",
    "flwing = 742\n",
    "posts = 124\n",
    "bio = \"💫 Personal space 🔸📎 Main account @__gokul_krishnan___\"\n",
    "ext_url = 0\n",
    "actype = 1\n",
    "ppic = 1 \n"
   ]
  },
  {
   "cell_type": "code",
   "execution_count": 18,
   "metadata": {
    "id": "rFEP4NnsRiqL"
   },
   "outputs": [],
   "source": [
    "#Finding username numbers ratio\n",
    "username = \"john123\"\n",
    "ratio_numusername = 0\n",
    "\n",
    "for char in username:\n",
    "    if char.isdigit():\n",
    "        ratio_numusername += 1\n",
    "\n",
    "u_ratio = ratio_numusername / len(username)\n",
    "\n",
    "\n",
    "#full name words count\n",
    "pname_count = len(p_name.split())\n",
    "\n",
    "#ratio of number of numerical characters in profile name to its length\n",
    "ratio_numpname = 0\n",
    "\n",
    "for char in p_name:\n",
    "    if char.isdigit():\n",
    "        ratio_numpname += 1\n",
    "\n",
    "p_ratio = ratio_numpname / len(p_name)\n",
    "\n",
    "#bio length\n",
    "bio_len = len(bio)\n",
    "\n",
    "#name==username\n",
    "if username == p_name :\n",
    "  nu = 1\n",
    "else:\n",
    "  nu =0\n",
    "\n",
    "  pic = 1\n",
    "\n",
    "#account type\n",
    "actype = str(actype)\n",
    "if actype.lower == \"pub\":\n",
    "  actype = 0\n",
    "else:\n",
    "  actype = 1"
   ]
  },
  {
   "cell_type": "code",
   "execution_count": 19,
   "metadata": {
    "colab": {
     "base_uri": "https://localhost:8080/"
    },
    "id": "Sud0N_-hJnHP",
    "outputId": "70e18b62-f48f-4a97-8250-3296d51e53ab"
   },
   "outputs": [
    {
     "name": "stdout",
     "output_type": "stream",
     "text": [
      "[[1, 0.42857142857142855, 2, 0.0, 0, 53, 0, 1, 124, 309, 742]]\n",
      "1/1 [==============================] - 0s 27ms/step\n",
      "[[0.5822409]]\n",
      "[[1]]\n"
     ]
    }
   ],
   "source": [
    "ext_url = int(ext_url)\n",
    "\n",
    "data = [[pic, u_ratio, pname_count, p_ratio, nu, bio_len, ext_url, actype, posts, flwrs, flwing]]\n",
    "\n",
    "print(data)\n",
    "\n",
    "vp = pd.DataFrame( data , columns = ['profile pic', 'nums/length username','fullname words','nums/length fullname','name==username','description length',\n",
    "                                    'external URL','private','#posts','#followers','#follows'])\n",
    "\n",
    "\n",
    "# Load new data\n",
    "new_data = vp\n",
    "\n",
    "# Preprocess new data\n",
    "X_new = new_data[numerical_cols]\n",
    "X_new_normalized = scaler.transform(X_new)\n",
    "X_new_reshaped = np.reshape(X_new_normalized, (X_new_normalized.shape[0], X_new_normalized.shape[1], 1))\n",
    "\n",
    "# Make predictions on new data\n",
    "predictions = model.predict(X_new_reshaped)\n",
    "\n",
    "# Print predictions\n",
    "print(predictions)\n",
    "\n",
    "# Make binary predictions on new data\n",
    "binary_predictions = (predictions >= 0.5).astype(int)\n",
    "\n",
    "# Print binary predictions\n",
    "print(binary_predictions)\n",
    "\n",
    "\n",
    "#print(dataset.iloc[674])"
   ]
  }
 ],
 "metadata": {
  "colab": {
   "provenance": []
  },
  "kernelspec": {
   "display_name": "Python 3 (ipykernel)",
   "language": "python",
   "name": "python3"
  },
  "language_info": {
   "codemirror_mode": {
    "name": "ipython",
    "version": 3
   },
   "file_extension": ".py",
   "mimetype": "text/x-python",
   "name": "python",
   "nbconvert_exporter": "python",
   "pygments_lexer": "ipython3",
   "version": "3.8.5"
  }
 },
 "nbformat": 4,
 "nbformat_minor": 4
}
