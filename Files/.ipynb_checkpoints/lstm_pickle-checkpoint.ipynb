{
 "cells": [
  {
   "cell_type": "code",
   "execution_count": 24,
   "id": "988c0ae1-f47a-4f33-855b-93db5286fe9a",
   "metadata": {
    "tags": []
   },
   "outputs": [
    {
     "name": "stdout",
     "output_type": "stream",
     "text": [
      "Epoch 1/10\n",
      "18/18 [==============================] - 2s 6ms/step - loss: 0.6820 - accuracy: 0.5180\n",
      "Epoch 2/10\n",
      "18/18 [==============================] - 0s 6ms/step - loss: 0.6300 - accuracy: 0.6511\n",
      "Epoch 3/10\n",
      "18/18 [==============================] - 0s 5ms/step - loss: 0.5808 - accuracy: 0.6637\n",
      "Epoch 4/10\n",
      "18/18 [==============================] - 0s 6ms/step - loss: 0.5300 - accuracy: 0.7302\n",
      "Epoch 5/10\n",
      "18/18 [==============================] - 0s 6ms/step - loss: 0.4665 - accuracy: 0.7698\n",
      "Epoch 6/10\n",
      "18/18 [==============================] - 0s 5ms/step - loss: 0.4173 - accuracy: 0.8058\n",
      "Epoch 7/10\n",
      "18/18 [==============================] - 0s 5ms/step - loss: 0.3923 - accuracy: 0.8327\n",
      "Epoch 8/10\n",
      "18/18 [==============================] - 0s 6ms/step - loss: 0.3711 - accuracy: 0.8417\n",
      "Epoch 9/10\n",
      "18/18 [==============================] - 0s 5ms/step - loss: 0.3623 - accuracy: 0.8399\n",
      "Epoch 10/10\n",
      "18/18 [==============================] - 0s 6ms/step - loss: 0.3474 - accuracy: 0.8543\n",
      "5/5 [==============================] - 0s 7ms/step - loss: 0.2606 - accuracy: 0.9071\n",
      "Test loss: 0.26060500741004944\n",
      "Test accuracy: 0.9071428775787354\n"
     ]
    }
   ],
   "source": [
    "# Import libraries\n",
    "import pandas as pd\n",
    "import numpy as np\n",
    "import pickle\n",
    "from keras.models import Sequential\n",
    "from keras.layers import LSTM, Dense\n",
    "from sklearn.model_selection import train_test_split\n",
    "from sklearn.preprocessing import StandardScaler\n",
    "\n",
    "git_link = 'https://github.com/geojoseph19/FakeFinder/raw/master/Datasets/Combined/insta_dataset.csv'\n",
    "dataset = pd.read_csv(git_link)\n",
    "\n",
    "# Load dataset\n",
    "df = dataset\n",
    "\n",
    "# Preprocess data\n",
    "numerical_cols = ['profile pic', 'nums/length username', 'fullname words', 'nums/length fullname', 'name==username', 'description length', 'external URL', 'private', '#posts', '#followers', '#follows']\n",
    "X = df[numerical_cols]\n",
    "y = df['fake']\n",
    "\n",
    "scaler = StandardScaler()\n",
    "X.columns = numerical_cols\n",
    "X_normalized = scaler.fit_transform(X)\n",
    "\n",
    "\n",
    "# Split data into training and testing sets\n",
    "X_train, X_test, y_train, y_test = train_test_split(X_normalized, y, test_size=0.2, random_state=40)\n",
    "\n",
    "# Define LSTM model\n",
    "model = Sequential()\n",
    "model.add(LSTM(64, input_shape=(X_train.shape[1], 1)))\n",
    "model.add(Dense(1, activation='sigmoid'))\n",
    "model.compile(loss='binary_crossentropy', optimizer='adam', metrics=['accuracy'])\n",
    "\n",
    "# Train LSTM model\n",
    "X_train_reshaped = np.reshape(X_train, (X_train.shape[0], X_train.shape[1], 1))\n",
    "model.fit(X_train_reshaped, y_train, epochs=10, batch_size=32)\n",
    "\n",
    "with open('lstm_model.pkl', 'wb') as file:\n",
    "    pickle.dump(model, file)\n",
    "\n",
    "# Evaluate LSTM model on test data\n",
    "X_test_reshaped = np.reshape(X_test, (X_test.shape[0], X_test.shape[1], 1))\n",
    "loss, accuracy = model.evaluate(X_test_reshaped, y_test)\n",
    "print(\"Test loss:\", loss)\n",
    "print(\"Test accuracy:\", accuracy)\n",
    "\n",
    "\n"
   ]
  },
  {
   "cell_type": "code",
   "execution_count": 25,
   "id": "6c025856-43e9-41f8-ae4f-8f0e96e36597",
   "metadata": {
    "tags": []
   },
   "outputs": [
    {
     "name": "stderr",
     "output_type": "stream",
     "text": [
      "c:\\users\\geo joseph\\appdata\\local\\programs\\python\\python38\\lib\\site-packages\\sklearn\\base.py:439: UserWarning: X does not have valid feature names, but StandardScaler was fitted with feature names\n",
      "  warnings.warn(\n"
     ]
    },
    {
     "name": "stdout",
     "output_type": "stream",
     "text": [
      "1/1 [==============================] - 0s 301ms/step\n",
      "Prediction: [[0.44356033]]\n",
      "[[0]]\n"
     ]
    }
   ],
   "source": [
    "# Load LSTM model from the pickle file\n",
    "with open('lstm_model.pkl', 'rb') as file:\n",
    "    loaded_model = pickle.load(file)\n",
    "\n",
    "# Make predictions using the loaded LSTM model\n",
    "#X_new = np.array([[1, 0.5, 2, 0.3, 0, 20, 1, 0, 100, 500, 1000]])\n",
    "data = np.array([[1, 0.25, 2, 0.0, 0, 150, 0, 0, 4, 8, 0]])\n",
    "X_new = data\n",
    "numerical_cols = ['profile pic', 'nums/length username', 'fullname words', 'nums/length fullname', 'name==username', 'description length', 'external URL', 'private', '#posts', '#followers', '#follows']\n",
    "\n",
    "scaler = StandardScaler()\n",
    "X_new.columns = numerical_cols\n",
    "\n",
    "X_new_normalized = scaler.transform(X_new)\n",
    "X_new_reshaped = np.reshape(X_new_normalized, (X_new_normalized.shape[0], X_new_normalized.shape[1], 1))\n",
    "\n",
    "y_pred = loaded_model.predict(X_new_reshaped)\n",
    "print(\"Prediction:\", y_pred)\n",
    "\n",
    "# Make binary predictions on new data\n",
    "binary_predictions = (y_pred >= 0.5).astype(int)\n",
    "\n",
    "# Print binary predictions\n",
    "print(binary_predictions)"
   ]
  }
 ],
 "metadata": {
  "kernelspec": {
   "display_name": "Python 3 (ipykernel)",
   "language": "python",
   "name": "python3"
  },
  "language_info": {
   "codemirror_mode": {
    "name": "ipython",
    "version": 3
   },
   "file_extension": ".py",
   "mimetype": "text/x-python",
   "name": "python",
   "nbconvert_exporter": "python",
   "pygments_lexer": "ipython3",
   "version": "3.8.5"
  }
 },
 "nbformat": 4,
 "nbformat_minor": 5
}
