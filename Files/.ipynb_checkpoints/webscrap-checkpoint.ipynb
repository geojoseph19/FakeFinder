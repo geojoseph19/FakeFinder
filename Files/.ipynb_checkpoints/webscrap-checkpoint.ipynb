{
 "cells": [
  {
   "cell_type": "code",
   "execution_count": 7,
   "id": "7fbb9d99-2e4c-4228-94e9-eb752e1766c4",
   "metadata": {},
   "outputs": [],
   "source": [
    "from selenium import webdriver\n",
    "from selenium.webdriver.common.by import By"
   ]
  },
  {
   "cell_type": "raw",
   "id": "48dd6f29-a5ce-45fe-9f65-dd6e713a798c",
   "metadata": {
    "tags": []
   },
   "source": [
    "path = \"C:\\Program Files (x86)\\chromedriver.exe\"\n",
    "\n",
    "driver = webdriver.Chrome(path)\n",
    "driver.get(\"https://www.instagram.com/mark.zukerburg.324/\")\n",
    "print(driver.title)\n",
    "\n",
    "content = driver.find_element(By.CLASS_NAME, '_ac2a _ac2b')\n",
    "\n",
    "print(content)\n",
    "\n",
    "\n",
    "driver.quit"
   ]
  },
  {
   "cell_type": "code",
   "execution_count": 15,
   "id": "55b86c7c-1c32-47c5-9d33-d355f009572a",
   "metadata": {
    "tags": []
   },
   "outputs": [],
   "source": [
    "#imports here\n",
    "from selenium import webdriver\n",
    "from selenium.webdriver.common.keys import Keys\n",
    "from selenium.webdriver.support import expected_conditions as EC\n",
    "from selenium.webdriver.common.by import By\n",
    "from selenium.webdriver.support.wait import WebDriverWait\n",
    "from webdriver_manager.chrome import ChromeDriverManager"
   ]
  },
  {
   "cell_type": "code",
   "execution_count": 16,
   "id": "4e7afca0-2066-451f-9698-1dcfc86cf2a0",
   "metadata": {
    "tags": []
   },
   "outputs": [
    {
     "name": "stdout",
     "output_type": "stream",
     "text": [
      "Requirement already satisfied: webdriver_manager in c:\\users\\geo joseph\\appdata\\local\\programs\\python\\python38\\lib\\site-packages (3.8.5)\n",
      "Requirement already satisfied: packaging in c:\\users\\geo joseph\\appdata\\local\\programs\\python\\python38\\lib\\site-packages (from webdriver_manager) (23.0)\n",
      "Requirement already satisfied: requests in c:\\users\\geo joseph\\appdata\\local\\programs\\python\\python38\\lib\\site-packages (from webdriver_manager) (2.28.2)\n",
      "Requirement already satisfied: python-dotenv in c:\\users\\geo joseph\\appdata\\local\\programs\\python\\python38\\lib\\site-packages (from webdriver_manager) (1.0.0)\n",
      "Requirement already satisfied: tqdm in c:\\users\\geo joseph\\appdata\\local\\programs\\python\\python38\\lib\\site-packages (from webdriver_manager) (4.65.0)\n",
      "Requirement already satisfied: idna<4,>=2.5 in c:\\users\\geo joseph\\appdata\\local\\programs\\python\\python38\\lib\\site-packages (from requests->webdriver_manager) (3.4)\n",
      "Requirement already satisfied: certifi>=2017.4.17 in c:\\users\\geo joseph\\appdata\\local\\programs\\python\\python38\\lib\\site-packages (from requests->webdriver_manager) (2022.12.7)\n",
      "Requirement already satisfied: charset-normalizer<4,>=2 in c:\\users\\geo joseph\\appdata\\local\\programs\\python\\python38\\lib\\site-packages (from requests->webdriver_manager) (3.1.0)\n",
      "Requirement already satisfied: urllib3<1.27,>=1.21.1 in c:\\users\\geo joseph\\appdata\\local\\programs\\python\\python38\\lib\\site-packages (from requests->webdriver_manager) (1.26.15)\n",
      "Requirement already satisfied: colorama in c:\\users\\geo joseph\\appdata\\local\\programs\\python\\python38\\lib\\site-packages (from tqdm->webdriver_manager) (0.4.6)\n",
      "Collecting wget\n",
      "  Downloading wget-3.2.zip (10 kB)\n",
      "  Preparing metadata (setup.py): started\n",
      "  Preparing metadata (setup.py): finished with status 'done'\n",
      "Building wheels for collected packages: wget\n",
      "  Building wheel for wget (setup.py): started\n",
      "  Building wheel for wget (setup.py): finished with status 'done'\n",
      "  Created wheel for wget: filename=wget-3.2-py3-none-any.whl size=9701 sha256=9017ed761bc9c7c6572b9549f4cafb6992f8286e7559449c8691bd2e4ddf5750\n",
      "  Stored in directory: c:\\users\\geo joseph\\appdata\\local\\pip\\cache\\wheels\\bd\\a8\\c3\\3cf2c14a1837a4e04bd98631724e81f33f462d86a1d895fae0\n",
      "Successfully built wget\n",
      "Installing collected packages: wget\n",
      "Successfully installed wget-3.2\n",
      "Requirement already satisfied: selenium in c:\\users\\geo joseph\\appdata\\local\\programs\\python\\python38\\lib\\site-packages (4.8.2)\n",
      "Requirement already satisfied: certifi>=2021.10.8 in c:\\users\\geo joseph\\appdata\\local\\programs\\python\\python38\\lib\\site-packages (from selenium) (2022.12.7)\n",
      "Requirement already satisfied: trio~=0.17 in c:\\users\\geo joseph\\appdata\\local\\programs\\python\\python38\\lib\\site-packages (from selenium) (0.22.0)\n",
      "Requirement already satisfied: trio-websocket~=0.9 in c:\\users\\geo joseph\\appdata\\local\\programs\\python\\python38\\lib\\site-packages (from selenium) (0.10.2)\n",
      "Requirement already satisfied: urllib3[socks]~=1.26 in c:\\users\\geo joseph\\appdata\\local\\programs\\python\\python38\\lib\\site-packages (from selenium) (1.26.15)\n",
      "Requirement already satisfied: outcome in c:\\users\\geo joseph\\appdata\\local\\programs\\python\\python38\\lib\\site-packages (from trio~=0.17->selenium) (1.2.0)\n",
      "Requirement already satisfied: attrs>=19.2.0 in c:\\users\\geo joseph\\appdata\\local\\programs\\python\\python38\\lib\\site-packages (from trio~=0.17->selenium) (22.2.0)\n",
      "Requirement already satisfied: exceptiongroup>=1.0.0rc9 in c:\\users\\geo joseph\\appdata\\local\\programs\\python\\python38\\lib\\site-packages (from trio~=0.17->selenium) (1.1.1)\n",
      "Requirement already satisfied: sniffio in c:\\users\\geo joseph\\appdata\\local\\programs\\python\\python38\\lib\\site-packages (from trio~=0.17->selenium) (1.3.0)\n",
      "Requirement already satisfied: idna in c:\\users\\geo joseph\\appdata\\local\\programs\\python\\python38\\lib\\site-packages (from trio~=0.17->selenium) (3.4)\n",
      "Requirement already satisfied: cffi>=1.14 in c:\\users\\geo joseph\\appdata\\local\\programs\\python\\python38\\lib\\site-packages (from trio~=0.17->selenium) (1.15.1)\n",
      "Requirement already satisfied: async-generator>=1.9 in c:\\users\\geo joseph\\appdata\\local\\programs\\python\\python38\\lib\\site-packages (from trio~=0.17->selenium) (1.10)\n",
      "Requirement already satisfied: sortedcontainers in c:\\users\\geo joseph\\appdata\\local\\programs\\python\\python38\\lib\\site-packages (from trio~=0.17->selenium) (2.4.0)\n",
      "Requirement already satisfied: wsproto>=0.14 in c:\\users\\geo joseph\\appdata\\local\\programs\\python\\python38\\lib\\site-packages (from trio-websocket~=0.9->selenium) (1.2.0)\n",
      "Requirement already satisfied: PySocks!=1.5.7,<2.0,>=1.5.6 in c:\\users\\geo joseph\\appdata\\local\\programs\\python\\python38\\lib\\site-packages (from urllib3[socks]~=1.26->selenium) (1.7.1)\n",
      "Requirement already satisfied: pycparser in c:\\users\\geo joseph\\appdata\\local\\programs\\python\\python38\\lib\\site-packages (from cffi>=1.14->trio~=0.17->selenium) (2.21)\n",
      "Requirement already satisfied: h11<1,>=0.9.0 in c:\\users\\geo joseph\\appdata\\local\\programs\\python\\python38\\lib\\site-packages (from wsproto>=0.14->trio-websocket~=0.9->selenium) (0.14.0)\n"
     ]
    }
   ],
   "source": [
    "!pip install webdriver_manager\n",
    "!pip install wget\n",
    "!pip install selenium"
   ]
  },
  {
   "cell_type": "code",
   "execution_count": 19,
   "id": "1e273866-50a1-475a-9052-bf815002e778",
   "metadata": {
    "tags": []
   },
   "outputs": [
    {
     "name": "stderr",
     "output_type": "stream",
     "text": [
      "C:\\Users\\Geo Joseph\\AppData\\Local\\Temp\\ipykernel_15132\\2222617826.py:2: DeprecationWarning: executable_path has been deprecated, please pass in a Service object\n",
      "  driver = webdriver.Chrome(ChromeDriverManager().install())\n"
     ]
    }
   ],
   "source": [
    "#automatically install web driver using the webdriver_manager library\n",
    "driver = webdriver.Chrome(ChromeDriverManager().install())\n",
    "\n",
    "#open the webpage\n",
    "driver.get(\"http://www.instagram.com\")\n",
    "\n",
    "#target username\n",
    "username = WebDriverWait(driver, 10).until(EC.element_to_be_clickable((By.CSS_SELECTOR, \"input[name='username']\")))\n",
    "password = WebDriverWait(driver, 10).until(EC.element_to_be_clickable((By.CSS_SELECTOR, \"input[name='password']\")))\n",
    "\n",
    "#enter username and password\n",
    "username.clear()\n",
    "username.send_keys(\"usrname\")\n",
    "password.clear()\n",
    "password.send_keys(\"pwd\")\n",
    "\n",
    "#target the login button and click it\n",
    "button = WebDriverWait(driver, 2).until(EC.element_to_be_clickable((By.CSS_SELECTOR, \"button[type='submit']\"))).click()\n",
    "\n",
    "#We are logged in!"
   ]
  },
  {
   "cell_type": "code",
   "execution_count": 20,
   "id": "5295a363-7982-48a8-9a7d-aaaba6ee836d",
   "metadata": {
    "tags": []
   },
   "outputs": [
    {
     "ename": "TimeoutException",
     "evalue": "Message: \nStacktrace:\nBacktrace:\n\t(No symbol) [0x002FDCE3]\n\t(No symbol) [0x002939D1]\n\t(No symbol) [0x001A4DA8]\n\t(No symbol) [0x001D019F]\n\t(No symbol) [0x001D03AB]\n\t(No symbol) [0x001FEE62]\n\t(No symbol) [0x001EAF14]\n\t(No symbol) [0x001FD57C]\n\t(No symbol) [0x001EACC6]\n\t(No symbol) [0x001C6F68]\n\t(No symbol) [0x001C80CD]\n\tGetHandleVerifier [0x00573832+2506274]\n\tGetHandleVerifier [0x005A9794+2727300]\n\tGetHandleVerifier [0x005AE36C+2746716]\n\tGetHandleVerifier [0x003A6690+617600]\n\t(No symbol) [0x0029C712]\n\t(No symbol) [0x002A1FF8]\n\t(No symbol) [0x002A20DB]\n\t(No symbol) [0x002AC63B]\n\tBaseThreadInitThunk [0x75837D69+25]\n\tRtlInitializeExceptionChain [0x7763B74B+107]\n\tRtlClearBits [0x7763B6CF+191]\n\t(No symbol) [0x00000000]\n",
     "output_type": "error",
     "traceback": [
      "\u001b[1;31m---------------------------------------------------------------------------\u001b[0m",
      "\u001b[1;31mTimeoutException\u001b[0m                          Traceback (most recent call last)",
      "Cell \u001b[1;32mIn[20], line 2\u001b[0m\n\u001b[0;32m      1\u001b[0m \u001b[38;5;66;03m#hadle NOT NOW\u001b[39;00m\n\u001b[1;32m----> 2\u001b[0m not_now \u001b[38;5;241m=\u001b[39m \u001b[43mWebDriverWait\u001b[49m\u001b[43m(\u001b[49m\u001b[43mdriver\u001b[49m\u001b[43m,\u001b[49m\u001b[43m \u001b[49m\u001b[38;5;241;43m10\u001b[39;49m\u001b[43m)\u001b[49m\u001b[38;5;241;43m.\u001b[39;49m\u001b[43muntil\u001b[49m\u001b[43m(\u001b[49m\u001b[43mEC\u001b[49m\u001b[38;5;241;43m.\u001b[39;49m\u001b[43melement_to_be_clickable\u001b[49m\u001b[43m(\u001b[49m\u001b[43m(\u001b[49m\u001b[43mBy\u001b[49m\u001b[38;5;241;43m.\u001b[39;49m\u001b[43mXPATH\u001b[49m\u001b[43m,\u001b[49m\u001b[43m \u001b[49m\u001b[38;5;124;43m'\u001b[39;49m\u001b[38;5;124;43m//button[contains(text(), \u001b[39;49m\u001b[38;5;124;43m\"\u001b[39;49m\u001b[38;5;124;43mNot Now\u001b[39;49m\u001b[38;5;124;43m\"\u001b[39;49m\u001b[38;5;124;43m)]\u001b[39;49m\u001b[38;5;124;43m'\u001b[39;49m\u001b[43m)\u001b[49m\u001b[43m)\u001b[49m\u001b[43m)\u001b[49m\u001b[38;5;241m.\u001b[39mclick()\n\u001b[0;32m      3\u001b[0m \u001b[38;5;66;03m#not_now2 = WebDriverWait(driver, 10).until(EC.element_to_be_clickable((By.XPATH, '//button[contains(text(), \"Not Now\")]'))).click()\u001b[39;00m\n",
      "File \u001b[1;32mc:\\users\\geo joseph\\appdata\\local\\programs\\python\\python38\\lib\\site-packages\\selenium\\webdriver\\support\\wait.py:95\u001b[0m, in \u001b[0;36mWebDriverWait.until\u001b[1;34m(self, method, message)\u001b[0m\n\u001b[0;32m     93\u001b[0m     \u001b[38;5;28;01mif\u001b[39;00m time\u001b[38;5;241m.\u001b[39mmonotonic() \u001b[38;5;241m>\u001b[39m end_time:\n\u001b[0;32m     94\u001b[0m         \u001b[38;5;28;01mbreak\u001b[39;00m\n\u001b[1;32m---> 95\u001b[0m \u001b[38;5;28;01mraise\u001b[39;00m TimeoutException(message, screen, stacktrace)\n",
      "\u001b[1;31mTimeoutException\u001b[0m: Message: \nStacktrace:\nBacktrace:\n\t(No symbol) [0x002FDCE3]\n\t(No symbol) [0x002939D1]\n\t(No symbol) [0x001A4DA8]\n\t(No symbol) [0x001D019F]\n\t(No symbol) [0x001D03AB]\n\t(No symbol) [0x001FEE62]\n\t(No symbol) [0x001EAF14]\n\t(No symbol) [0x001FD57C]\n\t(No symbol) [0x001EACC6]\n\t(No symbol) [0x001C6F68]\n\t(No symbol) [0x001C80CD]\n\tGetHandleVerifier [0x00573832+2506274]\n\tGetHandleVerifier [0x005A9794+2727300]\n\tGetHandleVerifier [0x005AE36C+2746716]\n\tGetHandleVerifier [0x003A6690+617600]\n\t(No symbol) [0x0029C712]\n\t(No symbol) [0x002A1FF8]\n\t(No symbol) [0x002A20DB]\n\t(No symbol) [0x002AC63B]\n\tBaseThreadInitThunk [0x75837D69+25]\n\tRtlInitializeExceptionChain [0x7763B74B+107]\n\tRtlClearBits [0x7763B6CF+191]\n\t(No symbol) [0x00000000]\n"
     ]
    }
   ],
   "source": [
    "#hadle NOT NOW\n",
    "not_now = WebDriverWait(driver, 10).until(EC.element_to_be_clickable((By.XPATH, '//button[contains(text(), \"Not Now\")]'))).click()\n",
    "#not_now2 = WebDriverWait(driver, 10).until(EC.element_to_be_clickable((By.XPATH, '//button[contains(text(), \"Not Now\")]'))).click()"
   ]
  }
 ],
 "metadata": {
  "kernelspec": {
   "display_name": "Python 3 (ipykernel)",
   "language": "python",
   "name": "python3"
  },
  "language_info": {
   "codemirror_mode": {
    "name": "ipython",
    "version": 3
   },
   "file_extension": ".py",
   "mimetype": "text/x-python",
   "name": "python",
   "nbconvert_exporter": "python",
   "pygments_lexer": "ipython3",
   "version": "3.8.5"
  }
 },
 "nbformat": 4,
 "nbformat_minor": 5
}
