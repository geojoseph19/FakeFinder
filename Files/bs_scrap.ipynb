{
 "cells": [
  {
   "cell_type": "code",
   "execution_count": null,
   "id": "cae22c36-c390-4b77-b29f-92da6736017a",
   "metadata": {},
   "outputs": [],
   "source": []
  },
  {
   "cell_type": "code",
   "execution_count": 151,
   "id": "55822912-f259-4262-a394-4639f1ff0cf3",
   "metadata": {
    "tags": []
   },
   "outputs": [
    {
     "name": "stdout",
     "output_type": "stream",
     "text": [
      "Raw :  <meta content=\"47K Followers, 9 Following, 910 Posts - See Instagram photos and videos from All Kerala Allu Arjun Fans (@alluarjun_addicters_kerala)\" name=\"description\"/>\n",
      "Username :  alluarjun_addicters_kerala \n",
      "Profile name :  All Kerala Allu Arjun Fans \n",
      "Followers :  47000 \n",
      "Following :  9 \n",
      "Posts :  910\n"
     ]
    }
   ],
   "source": [
    "import requests\n",
    "from bs4 import BeautifulSoup\n",
    "\n",
    "\n",
    "username = 'alluarjun_addicters_kerala'\n",
    "\n",
    "# Define the URL to scrape\n",
    "url = f'https://www.instagram.com/{username}/'\n",
    "\n",
    "# Send a GET request to the URL\n",
    "response = requests.get(url)\n",
    "\n",
    "# Check if the request was successful\n",
    "if response.status_code == 200:\n",
    "    # Parse the HTML content using BeautifulSoup\n",
    "    soup = BeautifulSoup(response.content, 'html.parser')\n",
    "\n",
    "    # Find the og:description meta tag\n",
    "    mtag = soup.find('meta', {'name': 'description'})\n",
    "\n",
    "    print(\"Raw : \",mtag)\n",
    "    \n",
    "    mtag = str(mtag)\n",
    "    mtag = mtag.replace('\"',' ')\n",
    "    mtag = mtag.split(\" \")\n",
    "    \n",
    "    \n",
    "    pname = \" \".join(mtag[15:-5])\n",
    "    flwrs = mtag[2]\n",
    "    flwing = mtag[4]\n",
    "    posts = mtag[6]\n",
    "    \n",
    "    #converting number abbrevations \n",
    "    if flwrs[-1] == \"M\":\n",
    "        flwrs = flwrs[0:-1] \n",
    "        print(flwrs)\n",
    "        flwrs = int(flwrs) * 1000000\n",
    "    elif flwrs[-1] == \"K\":\n",
    "        flwrs = flwrs[0:-1] \n",
    "        flwrs = int(flwrs) * 1000\n",
    "    \n",
    "    \n",
    "    print(\"Username : \",username,\"\\nProfile name : \", pname, \"\\nFollowers : \", flwrs, \"\\nFollowing : \",flwing, \"\\nPosts : \",posts)\n",
    "\n",
    "    \n",
    "\n",
    "\n",
    "\n",
    "\n",
    "\n",
    "    \n",
    "#print(soup.prettify())\n"
   ]
  }
 ],
 "metadata": {
  "kernelspec": {
   "display_name": "Python 3 (ipykernel)",
   "language": "python",
   "name": "python3"
  },
  "language_info": {
   "codemirror_mode": {
    "name": "ipython",
    "version": 3
   },
   "file_extension": ".py",
   "mimetype": "text/x-python",
   "name": "python",
   "nbconvert_exporter": "python",
   "pygments_lexer": "ipython3",
   "version": "3.8.5"
  }
 },
 "nbformat": 4,
 "nbformat_minor": 5
}
